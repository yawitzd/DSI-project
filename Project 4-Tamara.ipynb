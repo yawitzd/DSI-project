{
 "cells": [
  {
   "cell_type": "markdown",
   "metadata": {
    "focus": false,
    "id": "69b9a648-bcc7-490d-9f9b-ea244d156bd6"
   },
   "source": [
    "# Web Scraping for Indeed.com & Predicting Salaries"
   ]
  },
  {
   "cell_type": "markdown",
   "metadata": {
    "focus": false,
    "id": "34681254-c802-462f-829d-8894d0772d08"
   },
   "source": [
    "In this project, we will practice two major skills: collecting data by scraping a website and then building a binary predictor with Logistic Regression.\n",
    "\n",
    "We are going to collect salary information on data science jobs in a variety of markets. Then using the location, title and summary of the job we will attempt to predict the salary of the job. For job posting sites, this would be extraordinarily useful. While most listings DO NOT come with salary information (as you will see in this exercise), being to able extrapolate or predict the expected salaries from other listings can help guide negotiations.\n",
    "\n",
    "Normally, we could use regression for this task; however, we will convert this problem into classification and use Logistic Regression.\n",
    "\n",
    "- Question: Why would we want this to be a classification problem?\n",
    "- Answer: While more precision may be better, there is a fair amount of natural variance in job salaries - predicting a range be may be useful.\n",
    "\n",
    "Therefore, the first part of the assignment will be focused on scraping Indeed.com. In the second, we'll focus on using listings with salary information to build a model and predict additional salaries."
   ]
  },
  {
   "cell_type": "markdown",
   "metadata": {
    "focus": false,
    "id": "a948d79c-5527-4c0d-ab23-f5d43ce72056"
   },
   "source": [
    "### Scraping job listings from Indeed.com"
   ]
  },
  {
   "cell_type": "markdown",
   "metadata": {
    "focus": true,
    "id": "7203e0c9-e437-4802-a6ad-7dc464f94436"
   },
   "source": [
    "We will be scraping job listings from Indeed.com using BeautifulSoup. Luckily, Indeed.com is a simple text page where we can easily find relevant entries.\n",
    "\n",
    "First, look at the source of an Indeed.com page: (http://www.indeed.com/jobs?q=data+scientist+%2420%2C000&l=New+York&start=10\")\n",
    "\n",
    "Notice, each job listing is underneath a `div` tag with a class name of `result`. We can use BeautifulSoup to extract those. "
   ]
  },
  {
   "cell_type": "markdown",
   "metadata": {
    "focus": false,
    "id": "9732c901-ae26-4160-8376-42e22dd327df"
   },
   "source": [
    "#### Setup a request (using `requests`) to the URL below. Use BeautifulSoup to parse the page and extract all results (HINT: Look for div tags with class name result)"
   ]
  },
  {
   "cell_type": "code",
   "execution_count": 1,
   "metadata": {
    "collapsed": false,
    "focus": false,
    "id": "e915023e-6b0d-4982-af2a-b1e0355f4927"
   },
   "outputs": [],
   "source": [
    "URL = \"http://www.indeed.com/jobs?q=data+scientist+%2420%2C000&l=New+York&start=10\""
   ]
  },
  {
   "cell_type": "code",
   "execution_count": 2,
   "metadata": {
    "collapsed": true,
    "focus": false,
    "id": "2efefc73-064a-482d-b3b5-ddf5508cb4ec"
   },
   "outputs": [],
   "source": [
    "import requests\n",
    "import bs4\n",
    "from bs4 import BeautifulSoup\n",
    "import pandas as pd\n",
    "from IPython.core.display import HTML, Image\n",
    "import numpy as np\n",
    "import re\n",
    "import statsmodels.api as sm\n",
    "from sklearn.linear_model import LogisticRegression, LogisticRegressionCV\n",
    "from sklearn.cross_validation import train_test_split, cross_val_score\n",
    "from sklearn.metrics import classification_report, confusion_matrix, accuracy_score\n",
    "from sklearn.grid_search import GridSearchCV"
   ]
  },
  {
   "cell_type": "markdown",
   "metadata": {
    "focus": false,
    "id": "bb0b866a-26a7-45e9-8084-5a0f90eb4b3e"
   },
   "source": [
    "Let's look at one result more closely. A single `result` looks like\n",
    "\n",
    "```\n",
    "<div class=\" row result\" data-jk=\"2480d203f7e97210\" data-tn-component=\"organicJob\" id=\"p_2480d203f7e97210\" itemscope=\"\" itemtype=\"http://schema.org/JobPosting\">\n",
    "<h2 class=\"jobtitle\" id=\"jl_2480d203f7e97210\">\n",
    "<a class=\"turnstileLink\" data-tn-element=\"jobTitle\" onmousedown=\"return rclk(this,jobmap[0],1);\" rel=\"nofollow\" target=\"_blank\" title=\"AVP/Quantitative Analyst\">AVP/Quantitative Analyst</a>\n",
    "</h2>\n",
    "<span class=\"company\" itemprop=\"hiringOrganization\" itemtype=\"http://schema.org/Organization\">\n",
    "<span itemprop=\"name\">\n",
    "<a href=\"/cmp/Alliancebernstein?from=SERP&amp;campaignid=serp-linkcompanyname&amp;fromjk=2480d203f7e97210&amp;jcid=b374f2a780e04789\" target=\"_blank\">\n",
    "    AllianceBernstein</a></span>\n",
    "</span>\n",
    "<tr>\n",
    "<td class=\"snip\">\n",
    "<nobr>$117,500 - $127,500 a year</nobr>\n",
    "<div>\n",
    "<span class=\"summary\" itemprop=\"description\">\n",
    "C onduct quantitative and statistical research as well as portfolio management for various investment portfolios. Collaborate with Quantitative Analysts and</span>\n",
    "</div>\n",
    "</div>\n",
    "</td>\n",
    "</tr>\n",
    "</table>\n",
    "</div>\n",
    "```\n",
    "\n",
    "While this has some more verbose elements removed, we can see that there is some structure to the above:\n",
    "- The salary is available in a `nobr` element inside of a `td` element with `class='snip`.\n",
    "- The title of a job is in a link with class set to `jobtitle` and a `data-tn-element=\"jobTitle`.  \n",
    "- The location is set in a `span` with `class='location'`. \n",
    "- The company is set in a `span` with `class='company'`. "
   ]
  },
  {
   "cell_type": "markdown",
   "metadata": {
    "focus": false,
    "id": "f1eddb90-4ba8-483c-a229-77e93aa53119"
   },
   "source": [
    "### Write 4 functions to extract each item: location, company, job, and salary.\n",
    "\n",
    "example: \n",
    "```python\n",
    "def extract_location_from_result(result):\n",
    "    return result.find ...\n",
    "```\n",
    "\n",
    "\n",
    "- Make sure these functions are robust and can handle cases where the data/field may not be available.\n",
    "- Test the functions on the results above"
   ]
  },
  {
   "cell_type": "code",
   "execution_count": null,
   "metadata": {
    "collapsed": false,
    "focus": false,
    "id": "a1af53c9-9090-494f-b82e-cadb60a54909"
   },
   "outputs": [],
   "source": [
    "## YOUR CODE HERE\n",
    "\n",
    "title=[]\n",
    "company=[]\n",
    "location=[]\n",
    "salary=[]\n",
    "summary=[]\n",
    "\n",
    "def scraper(URL,city):\n",
    "    dom = BeautifulSoup(requests.get(URL).text,\"lxml\")\n",
    "\n",
    "    jobDivs = dom.find_all(\"div\", {\"class\":\"result\",\"class\":\"row\"})\n",
    "\n",
    "    for div in jobDivs:\n",
    "        divSoup = BeautifulSoup(unicode.join(u'\\n',map(unicode,div)),\"lxml\")\n",
    "\n",
    "        #get title\n",
    "        title.append(divSoup.find(\"a\",{\"data-tn-element\":\"jobTitle\"})['title'])\n",
    "\n",
    "        #get company\n",
    "        company1 = divSoup.find(\"a\",{\"data-tn-element\":\"companyName\"})\n",
    "        company2 = divSoup.find(\"span\",{\"class\":\"company\"})\n",
    "        company3 = divSoup.find(\"span\",{\"itemprop\":\"name\"})\n",
    "        if(company1 != None):\n",
    "            #print \"1: \",company1.contents[-1].strip()\n",
    "            company.append(company1.contents[-1].strip())\n",
    "        elif(company2 != None):\n",
    "            #print \"2: \",company2.strip()\n",
    "            company.append(company2.text.strip())\n",
    "        elif(company3 != None):\n",
    "            if(company3.string != None):\n",
    "                #print \"3a: \",company3.string.strip()\n",
    "                company.append(company3.string.strip())\n",
    "            else:\n",
    "                #print \"3b: \",company3.contents[-1].string.strip()\n",
    "                if(company3.contents[-1].string != None):\n",
    "                    company.append(company3.contents[-1].string.strip())\n",
    "                else:\n",
    "                    company.append(\"What:\" + company3.contents[-1].text)\n",
    "                    \n",
    "        else:\n",
    "            print \"N/A\"\n",
    "\n",
    "        #get location \n",
    "        #locationString = divSoup.find(\"span\",{\"class\":\"location\"}).string\n",
    "        #if (locationString == None):\n",
    "        #    locationString = divSoup.find(\"span\",{\"itemprop\":\"addressLocality\"}).contents[0].strip()\n",
    "        location.append(city)\n",
    "\n",
    "        #get salary\n",
    "\n",
    "        salaryItem = divSoup.find(\"span\",{\"class\":\"location\"}).findNextSibling(\"div\")\n",
    "        salaryItem2 = divSoup.find(\"td\",{\"class\":\"snip\"}).findChild('nobr')\n",
    "        if (salaryItem != None):\n",
    "            salary.append(salaryItem.text)\n",
    "        elif(salaryItem2 != None):\n",
    "            #print \"nobr: \", salaryItem2.string\n",
    "            salary.append(salaryItem2.string)\n",
    "        else:\n",
    "            salary.append(np.nan)\n",
    "\n",
    "        #get summary\n",
    "\n",
    "        #print divSoup.find(\"span\",{\"class\":\"summary\"}).text\n",
    "        #summary.append(divSoup.find(\"span\",{\"class\":\"summary\"}).text)"
   ]
  },
  {
   "cell_type": "markdown",
   "metadata": {
    "focus": false,
    "id": "34070e89-9521-4b45-90c8-57a6599aac68"
   },
   "source": [
    "Now, to scale up our scraping, we need to accumulate more results. We can do this by examining the URL above.\n",
    "\n",
    "- \"http://www.indeed.com/jobs?q=data+scientist+%2420%2C000&l=New+York&start=10\"\n",
    "\n",
    "There are two query parameters here we can alter to collect more results, the `l=New+York` and the `start=10`. The first controls the location of the results (so we can try a different city). The second controls where in the results to start and gives 10 results (thus, we can keep incrementing by 10 to go further in the list)."
   ]
  },
  {
   "cell_type": "markdown",
   "metadata": {
    "focus": false,
    "id": "e8beed7c-3e42-40c0-810f-5f67f8f885a0"
   },
   "source": [
    "#### Complete the following code to collect results from multiple cities and starting points. \n",
    "- Enter your city below to add it to the search\n",
    "- Remember to convert your salary to U.S. Dollars to match the other cities if the currency is different"
   ]
  },
  {
   "cell_type": "code",
   "execution_count": null,
   "metadata": {
    "collapsed": true,
    "focus": false,
    "id": "a9aa87ec-3575-4a01-a986-eb684f2c47d0"
   },
   "outputs": [],
   "source": []
  },
  {
   "cell_type": "code",
   "execution_count": null,
   "metadata": {
    "collapsed": false,
    "focus": false,
    "id": "04b0f9af-540e-402f-8292-81748707c676"
   },
   "outputs": [
    {
     "name": "stdout",
     "output_type": "stream",
     "text": [
      "Houston\n",
      "Results:  0\n",
      "Results:  10\n",
      "Results:  20\n",
      "Results:  30\n",
      "Results:  40\n",
      "Results:  50\n",
      "Results:  60\n",
      "Results:  70\n",
      "Results:  80\n",
      "Results:  90\n",
      "Results:  100\n",
      "Results:  110\n",
      "Results:  120\n",
      "Results:  130\n",
      "Results:  140\n",
      "Results:  150\n",
      "Results:  160\n",
      "Results:  170\n",
      "Results:  180\n",
      "Results:  190\n",
      "Results:  200\n",
      "Results:  210\n",
      "Results:  220\n",
      "Results:  230\n",
      "Results:  240\n",
      "Results:  250\n",
      "Results:  260\n",
      "Results:  270\n",
      "Results:  280\n",
      "Results:  290\n",
      "Results:  300\n",
      "Results:  310\n",
      "Results:  320\n",
      "Results:  330\n",
      "Results:  340\n",
      "Results:  350\n",
      "Results:  360\n",
      "Results:  370\n",
      "Results:  380\n",
      "Results:  390\n",
      "Results:  400\n",
      "Results:  410\n",
      "Results:  420\n",
      "Results:  430\n",
      "Results:  440\n",
      "Results:  450\n",
      "Results:  460\n",
      "Results:  470\n",
      "Results:  480\n",
      "Results:  490\n",
      "Results:  500\n",
      "Results:  510\n",
      "Results:  520\n",
      "Results:  530\n",
      "Results:  540\n",
      "Results:  550\n",
      "Results:  560\n",
      "Results:  570\n",
      "Results:  580\n",
      "Results:  590\n",
      "Results:  600\n",
      "Results:  610\n",
      "Results:  620\n",
      "Results:  630\n",
      "Results:  640\n",
      "Results:  650\n",
      "Results:  660\n",
      "Results:  670\n",
      "Results:  680\n",
      "Results:  690\n",
      "Results:  700\n",
      "Results:  710\n",
      "Results:  720\n",
      "Results:  730\n",
      "Results:  740\n",
      "Results:  750\n",
      "Results:  760\n",
      "Results:  770\n",
      "Results:  780\n",
      "Results:  790\n",
      "Results:  800\n",
      "Results:  810\n",
      "Results:  820\n",
      "Results:  830\n",
      "Results:  840\n",
      "Results:  850\n",
      "Results:  860\n",
      "Results:  870\n",
      "Results:  880\n",
      "Results:  890\n",
      "Results:  900\n",
      "Results:  910\n",
      "Results:  920\n",
      "Results:  930\n",
      "Results:  940\n",
      "Results:  950\n",
      "Results:  960\n",
      "Results:  970\n",
      "Results:  980\n",
      "Results:  990\n",
      "Chicago\n",
      "Results:  0\n",
      "Results:  10\n",
      "Results:  20\n",
      "Results:  30\n",
      "Results:  40\n",
      "Results:  50\n",
      "Results:  60\n",
      "Results:  70\n",
      "Results:  80\n",
      "Results:  90\n",
      "Results:  100\n",
      "Results:  110\n",
      "Results:  120\n",
      "Results:  130\n",
      "Results:  140\n",
      "Results:  150\n",
      "Results:  160\n",
      "Results:  170\n",
      "Results:  180\n",
      "Results:  190\n",
      "Results:  200\n",
      "Results:  210\n",
      "Results:  220\n",
      "Results:  230\n",
      "Results:  240\n",
      "Results:  250\n",
      "Results:  260\n",
      "Results:  270\n",
      "Results:  280\n",
      "Results:  290\n",
      "Results:  300\n",
      "Results:  310\n",
      "Results:  320\n",
      "Results:  330\n",
      "Results:  340\n",
      "Results:  350\n",
      "Results:  360\n",
      "Results:  370\n",
      "Results:  380\n",
      "Results:  390\n",
      "Results:  400\n",
      "Results:  410\n",
      "Results:  420\n",
      "Results:  430\n",
      "Results:  440\n",
      "Results:  450\n",
      "Results:  460\n",
      "Results:  470\n",
      "Results:  480\n",
      "Results:  490\n",
      "Results:  500\n",
      "Results:  510\n",
      "Results:  520\n",
      "Results:  530\n",
      "Results:  540\n",
      "Results:  550\n",
      "Results:  560\n",
      "Results:  570\n",
      "Results:  580\n",
      "Results:  590\n",
      "Results:  600\n",
      "Results:  610\n",
      "Results:  620\n",
      "Results:  630\n",
      "Results:  640\n",
      "Results:  650\n",
      "Results:  660\n",
      "Results:  670\n",
      "Results:  680\n",
      "Results:  690\n",
      "Results:  700\n",
      "Results:  710\n",
      "Results:  720\n",
      "Results:  730\n",
      "Results:  740\n",
      "Results:  750\n",
      "Results:  760\n",
      "Results:  770\n",
      "Results:  780\n",
      "Results:  790\n",
      "Results:  800\n",
      "Results:  810\n",
      "Results:  820\n",
      "Results:  830\n",
      "Results:  840\n",
      "Results:  850\n",
      "Results:  860\n",
      "Results:  870\n",
      "Results:  880\n",
      "Results:  890\n",
      "Results:  900\n",
      "Results:  910\n",
      "Results:  920\n",
      "Results:  930\n",
      "Results:  940\n",
      "Results:  950\n",
      "Results:  960\n",
      "Results:  970\n",
      "Results:  980\n",
      "Results:  990\n",
      "San+Francisco\n",
      "Results:  0\n",
      "Results:  10\n",
      "Results:  20\n",
      "Results:  30\n",
      "Results:  40\n",
      "Results:  50\n",
      "Results:  60\n",
      "Results:  70\n",
      "Results:  80\n",
      "Results:  90\n",
      "Results:  100\n",
      "Results:  110\n",
      "Results:  120\n",
      "Results:  130\n",
      "Results:  140\n",
      "Results:  150\n",
      "Results:  160\n",
      "Results:  170\n",
      "Results:  180\n",
      "Results:  190\n",
      "Results:  200\n",
      "Results:  210\n",
      "Results:  220\n",
      "Results:  230\n",
      "Results:  240\n",
      "Results:  250\n",
      "Results:  260\n",
      "Results:  270\n",
      "Results:  280\n",
      "Results:  290\n",
      "Results:  300\n",
      "Results:  310\n",
      "Results:  320\n",
      "Results:  330\n",
      "Results:  340\n",
      "Results:  350\n",
      "Results:  360\n",
      "Results:  370\n",
      "Results:  380\n",
      "Results:  390\n",
      "Results:  400\n",
      "Results:  410\n",
      "Results:  420\n",
      "Results:  430\n",
      "Results:  440\n",
      "Results:  450\n",
      "Results:  460\n",
      "Results:  470\n",
      "Results:  480\n",
      "Results:  490\n",
      "Results:  500\n",
      "Results:  510\n",
      "Results:  520\n",
      "Results:  530\n",
      "Results:  540\n",
      "Results:  550\n",
      "Results:  560\n",
      "Results:  570\n",
      "Results:  580\n",
      "Results:  590\n",
      "Results:  600\n",
      "Results:  610\n",
      "Results:  620\n",
      "Results:  630\n",
      "Results:  640\n",
      "Results:  650\n",
      "Results:  660\n",
      "Results:  670\n",
      "Results:  680\n",
      "Results:  690\n",
      "Results:  700\n",
      "Results:  710\n",
      "Results:  720\n",
      "Results:  730\n",
      "Results:  740\n",
      "Results:  750\n",
      "Results:  760\n",
      "Results:  770\n",
      "Results:  780\n",
      "Results:  790\n",
      "Results:  800\n",
      "Results:  810\n",
      "Results:  820\n",
      "Results:  830\n",
      "Results:  840\n",
      "Results:  850\n",
      "Results:  860\n",
      "Results:  870\n",
      "Results:  880\n",
      "Results:  890\n",
      "Results:  900\n",
      "Results:  910\n",
      "Results:  920\n",
      "Results:  930\n",
      "Results:  940\n",
      "Results:  950\n",
      "Results:  960\n",
      "Results:  970\n",
      "Results:  980\n",
      "Results:  990\n",
      "New+York\n",
      "Results:  0\n",
      "Results:  10\n",
      "Results:  20\n",
      "Results:  30\n",
      "Results:  40\n",
      "Results:  50\n",
      "Results:  60\n",
      "Results:  70\n",
      "Results:  80\n",
      "Results:  90\n",
      "Results:  100\n",
      "Results:  110\n",
      "Results:  120\n",
      "Results:  130\n",
      "Results:  140\n",
      "Results:  150\n",
      "Results:  160\n",
      "Results:  170\n",
      "Results:  180\n",
      "Results:  190\n",
      "Results:  200\n",
      "Results:  210\n",
      "Results:  220\n",
      "Results:  230\n",
      "Results:  240\n",
      "Results:  250\n",
      "Results:  260\n",
      "Results:  270\n",
      "Results:  280\n",
      "Results:  290\n",
      "Results:  300\n",
      "Results:  310\n",
      "Results:  320\n",
      "Results:  330\n",
      "N/A\n",
      "Results:  340\n",
      "Results:  350\n",
      "Results:  360\n",
      "Results:  370\n",
      "Results:  380\n",
      "Results:  390\n",
      "Results:  400\n",
      "Results:  410\n",
      "Results:  420\n",
      "Results:  430\n",
      "Results:  440\n",
      "Results:  450\n",
      "Results:  460\n",
      "Results:  470\n",
      "Results:  480\n",
      "Results:  490\n",
      "Results:  500\n",
      "Results:  510\n",
      "Results:  520\n",
      "Results:  530\n",
      "Results:  540\n",
      "Results:  550\n",
      "Results:  560\n",
      "Results:  570\n",
      "Results:  580\n",
      "Results:  590\n",
      "Results:  600\n",
      "Results:  610\n",
      "Results:  620\n",
      "Results:  630\n",
      "Results:  640\n",
      "Results:  650\n",
      "Results:  660\n",
      "Results:  670\n",
      "Results:  680\n",
      "Results:  690\n",
      "Results:  700\n",
      "Results:  710\n",
      "Results:  720\n",
      "Results:  730\n",
      "Results:  740\n",
      "Results:  750\n",
      "Results:  760\n",
      "Results:  770\n",
      "Results:  780\n",
      "Results:  790\n",
      "Results:  800\n",
      "Results:  810\n",
      "Results:  820\n",
      "Results:  830\n",
      "Results:  840\n",
      "Results:  850\n",
      "Results:  860\n",
      "Results:  870\n",
      "Results:  880\n",
      "N/A\n",
      "Results:  890\n",
      "Results:  900\n",
      "Results:  910\n",
      "Results:  920\n",
      "Results:  930\n",
      "Results:  940\n",
      "Results:  950\n",
      "Results:  960\n",
      "Results:  970\n",
      "Results:  980\n",
      "Results:  990\n",
      "Dallas\n",
      "Results:  0\n"
     ]
    }
   ],
   "source": [
    "max_results_per_city = 1000\n",
    "\n",
    "for city in set(['New+York', 'Chicago', 'San+Francisco', 'Austin', \"Atlanta\",\"Seattle\",\"Los+Angeles\",\"Washington%2C+DC\",\"Huntsville\",\n",
    "                 \"San+Diego\",\"Austin\",\"Denver\",\"St.+Louis\",\"Boston\",\"Portland\",\"Philadelphia\",\"Dallas\",\"Houston\",\"San+Antonio\",\"Charlotte\"]):\n",
    "    print city\n",
    "    for start in range(0, max_results_per_city, 10):\n",
    "        print \"Results: \", start\n",
    "        url_template = \"http://www.indeed.com/jobs?q=data+scientist+%2420%2C000&l=\"+ city +\"&start=\" + str(start)\n",
    "        scraper(url_template, city)"
   ]
  },
  {
   "cell_type": "markdown",
   "metadata": {
    "focus": false,
    "id": "20339c09-5032-4e27-91be-286e9b46cd13"
   },
   "source": [
    "#### Use the functions you wrote above to parse out the 4 fields - location, title, company and salary. Create a dataframe from the results with those 4 columns."
   ]
  },
  {
   "cell_type": "code",
   "execution_count": null,
   "metadata": {
    "collapsed": false,
    "focus": false,
    "id": "6e259594-1c52-436b-ab9e-527e071941c1"
   },
   "outputs": [],
   "source": [
    "print len(title)\n",
    "print len(salary)\n",
    "print len(location)\n",
    "print len(salary)"
   ]
  },
  {
   "cell_type": "code",
   "execution_count": null,
   "metadata": {
    "collapsed": true
   },
   "outputs": [],
   "source": [
    "length = len(title)-1"
   ]
  },
  {
   "cell_type": "code",
   "execution_count": null,
   "metadata": {
    "collapsed": true
   },
   "outputs": [],
   "source": [
    "df = pd.DataFrame({'title':title[0:length], 'company':company[0:length], 'location':location[0:length], 'salary':salary[0:length]})"
   ]
  },
  {
   "cell_type": "code",
   "execution_count": null,
   "metadata": {
    "collapsed": false
   },
   "outputs": [],
   "source": [
    "df.describe()"
   ]
  },
  {
   "cell_type": "code",
   "execution_count": null,
   "metadata": {
    "collapsed": false
   },
   "outputs": [],
   "source": [
    "df = df.dropna()\n",
    "df"
   ]
  },
  {
   "cell_type": "markdown",
   "metadata": {
    "focus": false,
    "id": "ff98ce64-78a7-441f-a675-63464e32c834"
   },
   "source": [
    "Lastly, we need to clean up salary data. \n",
    "1. Some of the salaries are not yearly but hourly, these will be useful to us for now\n",
    "2. The salaries are given as text and usually with ranges.\n",
    "\n",
    "#### Filter out the salaries that are not yearly (filter those that refer to hour)"
   ]
  },
  {
   "cell_type": "code",
   "execution_count": null,
   "metadata": {
    "collapsed": false,
    "focus": false,
    "id": "58533e57-f86b-494a-b841-e7b59c6229c6"
   },
   "outputs": [],
   "source": []
  },
  {
   "cell_type": "code",
   "execution_count": null,
   "metadata": {
    "collapsed": false
   },
   "outputs": [],
   "source": [
    "yearly = pd.DataFrame(columns=('company', 'location', 'salary', 'title'))\n",
    "for index, row in df.iterrows():\n",
    "    if \"a year\" in row['salary']:\n",
    "        yearly.loc[index] = row\n",
    "#yearly"
   ]
  },
  {
   "cell_type": "markdown",
   "metadata": {
    "focus": false,
    "id": "7d4bc860-b214-4f75-9cd0-b234830b1ec2"
   },
   "source": [
    "#### Write a function that takes a salary string and converts it to a number, averaging a salary range if necessary"
   ]
  },
  {
   "cell_type": "code",
   "execution_count": null,
   "metadata": {
    "collapsed": false,
    "focus": false,
    "id": "a0f701e0-80bd-40ba-9101-4535860c0968"
   },
   "outputs": [],
   "source": [
    "## YOUR CODE HERE\n",
    "for index, row in yearly.iterrows():\n",
    "    if \"-\" in row['salary']:\n",
    "        tokenized = row['salary'].split(\"-\")\n",
    "        #print \"First: \",re.sub(\"[^0-9]\", \"\", tokenized[0].strip(\"$\")).strip()\n",
    "        #print \"Second: \",re.sub(\"[^0-9]\", \"\", tokenized[1].strip(\"$\")).strip()\n",
    "        lower = int(re.sub(\"[^0-9]\", \"\", tokenized[0]).strip())\n",
    "        higher = int(re.sub(\"[^0-9]\", \"\", tokenized[1]).strip())\n",
    "        average = (higher + lower)/2\n",
    "        yearly.loc[index][2] = average\n",
    "    else:\n",
    "        yearly.loc[index][2] = int(re.sub(\"[^0-9]\", \"\", row['salary']).strip())\n",
    "        \n",
    "    yearly.loc[index][1] = re.sub(\"\\d+\",\"\", row['location']).strip() \n",
    "    \n",
    "yearly.head()"
   ]
  },
  {
   "cell_type": "code",
   "execution_count": null,
   "metadata": {
    "collapsed": true
   },
   "outputs": [],
   "source": [
    "def print_full(x):\n",
    "    pd.set_option('display.max_rows', len(x))\n",
    "    print(x)\n",
    "    pd.reset_option('display.max_rows')\n",
    "\n",
    "yearly['salary'] = yearly['salary'].astype(int)\n",
    "#print_full(yearly['salary'])"
   ]
  },
  {
   "cell_type": "markdown",
   "metadata": {
    "collapsed": false,
    "focus": false,
    "id": "43e71edd-210e-42b1-9336-70a931f048af"
   },
   "source": [
    "### Save your results as a CSV"
   ]
  },
  {
   "cell_type": "code",
   "execution_count": null,
   "metadata": {
    "collapsed": true,
    "focus": false,
    "id": "783fd153-28ac-47ab-bfca-27e7c1de95b4"
   },
   "outputs": [],
   "source": [
    "## YOUR CODE HERE\n",
    "yearly.describe()\n",
    "\n",
    "yearly.to_csv(\"/Users/Tamara/Desktop/indeed_salary_data\",encoding='utf-8',index=False)\n"
   ]
  },
  {
   "cell_type": "markdown",
   "metadata": {
    "focus": false,
    "id": "04563b69-f7b6-466f-9d65-fc62c9ddee6a"
   },
   "source": [
    "## Predicting salaries using Logistic Regression"
   ]
  },
  {
   "cell_type": "markdown",
   "metadata": {
    "focus": false,
    "id": "243e949e-2742-40af-872e-fec475fd306c"
   },
   "source": [
    "#### Load in the the data of scraped salaries"
   ]
  },
  {
   "cell_type": "code",
   "execution_count": null,
   "metadata": {
    "collapsed": false,
    "focus": false,
    "id": "588f9845-6143-4bcc-bfd1-85d45b79303d"
   },
   "outputs": [],
   "source": [
    "## YOUR CODE HERE\n",
    "data = pd.read_csv('../assets/indeed_salary_data')\n",
    "data.head()"
   ]
  },
  {
   "cell_type": "code",
   "execution_count": null,
   "metadata": {
    "collapsed": false
   },
   "outputs": [],
   "source": [
    "data = data.drop_duplicates()\n",
    "data.count()"
   ]
  },
  {
   "cell_type": "code",
   "execution_count": null,
   "metadata": {
    "collapsed": false
   },
   "outputs": [],
   "source": [
    "meanSalary = np.mean(data[\"salary\"])\n",
    "\n",
    "def HigherOrLower(salary):\n",
    "    if salary > meanSalary:\n",
    "        return 1\n",
    "    else:\n",
    "        return 0\n",
    "\n",
    "data[\"HighLow\"] = map(HigherOrLower,data[\"salary\"])\n",
    "#smdata = data\n",
    "#smdata[\"Intercept\"] = 1\n",
    "data[\"Intercept\"] = 1"
   ]
  },
  {
   "cell_type": "markdown",
   "metadata": {
    "focus": false,
    "id": "c7631f51-07f2-4c79-a093-3e9bc7849a48"
   },
   "source": [
    "#### We want to predict a binary variable - whether the salary was low or high. Compute the median salary and create a new binary variable that is true when the salary is high (above the median)"
   ]
  },
  {
   "cell_type": "code",
   "execution_count": null,
   "metadata": {
    "collapsed": true,
    "focus": false,
    "id": "c20d2498-151c-44c3-a453-3a333c79a0ac"
   },
   "outputs": [],
   "source": [
    "## YOUR CODE HERE\n",
    "def categorizeTitles(string):\n",
    "    title = string.lower()\n",
    "    if(\"data scientist\" in title):\n",
    "        return 0\n",
    "    elif(\"statistician\" in title):\n",
    "        return 1\n",
    "    elif(\"data analyst\" in title):\n",
    "        return 2\n",
    "    elif(\"data engineer\" in title):\n",
    "        return 3\n",
    "    elif(\"research analyst\" in title):\n",
    "        return 4\n",
    "    elif(\"software\" in title or \"engineer\" in title or \"developer\" in title):\n",
    "        return 5\n",
    "    elif(\"analyst\" in title):\n",
    "        return 6\n",
    "    elif(\"director\" in title):\n",
    "        return 7\n",
    "    elif(\"manager\" in title):\n",
    "        return 8\n",
    "    elif(\"scientist\" in title):\n",
    "        return 9\n",
    "    else:\n",
    "        return 10\n",
    "    \n",
    "categorizedTitles = map(categorizeTitles,data.title)\n",
    "data[\"categorizedTitle\"] = categorizedTitles\n",
    "#smdata[\"categorizedTitle\"] = categorizedTitles"
   ]
  },
  {
   "cell_type": "code",
   "execution_count": null,
   "metadata": {
    "collapsed": true
   },
   "outputs": [],
   "source": [
    "def categorizeLevel(string):\n",
    "    title = string.lower()\n",
    "    if(\"junior\" in title or \"jr.\" in title):\n",
    "        return 0\n",
    "    elif(\"mid-level\" in title):\n",
    "        return 2\n",
    "    elif(\"senior\" in title or \"sr.\" in title):\n",
    "        return 1\n",
    "    elif(\"principal\" in title):\n",
    "        return 2\n",
    "    elif(\"lead\" in title):\n",
    "        return 3\n",
    "    else:\n",
    "        return 4\n",
    "    \n",
    "categorizedLevels = map(categorizeLevel,data.title)\n",
    "data[\"categorizedLevel\"] = categorizedLevels"
   ]
  },
  {
   "cell_type": "code",
   "execution_count": null,
   "metadata": {
    "collapsed": true
   },
   "outputs": [],
   "source": [
    "locationData = data.groupby(\"location\",as_index=\"False\").count()\n",
    "mostCommonLocation = locationData.idxmax()[1]\n",
    "print \"Most Common Location: \", mostCommonLocation\n",
    "\n",
    "companyData = data.groupby(\"company\",as_index=\"False\").count()\n",
    "mostCommonCompany = companyData.idxmax()[1]\n",
    "print \"Most Common Company: \", mostCommonCompany\n",
    "\n",
    "titleData = data.groupby(\"categorizedTitle\",as_index=\"False\").count()\n",
    "mostCommonTitle = titleData.idxmax()[1]\n",
    "print \"Most Common Categorized Title: \", mostCommonTitle"
   ]
  },
  {
   "cell_type": "code",
   "execution_count": null,
   "metadata": {
    "collapsed": true
   },
   "outputs": [],
   "source": [
    "categories = [\"location\"]\n",
    "for category in categories:\n",
    "    series = data[category]\n",
    "    dummies = pd.get_dummies(series, prefix=category)\n",
    "    data = pd.concat([data, dummies], axis=1)\n",
    "    #if(categories != \"company\"):\n",
    "        #smdata = pd.concat([smdata, dummies], axis = 1)\n",
    "    \n",
    "#delete most common location for colinearity\n",
    "del data[\"location_\"+mostCommonLocation]\n",
    "#del data[\"company_\"+mostCommonCompany]\n",
    "#del data[\"categorizedTitle_\"+str(mostCommonTitle)]\n",
    "\n",
    "#del smdata[\"location_\"+mostCommonLocation]\n",
    "#del smdata[\"company_\"+mostCommonCompany]\n",
    "#del smdata[\"categorizedTitle_\"+str(mostCommonTitle)]\n",
    "\n",
    "#smdata"
   ]
  },
  {
   "cell_type": "code",
   "execution_count": null,
   "metadata": {
    "collapsed": true
   },
   "outputs": [],
   "source": [
    "data.head()"
   ]
  },
  {
   "cell_type": "code",
   "execution_count": null,
   "metadata": {
    "collapsed": true
   },
   "outputs": [],
   "source": [
    "X = data.iloc[:,8:]\n",
    "y = data[\"HighLow\"]\n",
    "y.name = \"Actual\""
   ]
  },
  {
   "cell_type": "code",
   "execution_count": null,
   "metadata": {
    "collapsed": true
   },
   "outputs": [],
   "source": [
    "logit = sm.Logit(y, X)\n",
    "result = logit.fit()\n",
    "result.summary()"
   ]
  },
  {
   "cell_type": "code",
   "execution_count": null,
   "metadata": {
    "collapsed": true
   },
   "outputs": [],
   "source": [
    "result = logit.fit_regularized()\n",
    "result.summary()"
   ]
  },
  {
   "cell_type": "code",
   "execution_count": null,
   "metadata": {
    "collapsed": true
   },
   "outputs": [],
   "source": [
    "\n",
    "categories = [\"company\", \"categorizedTitle\"]\n",
    "for category in categories:\n",
    "    series = data[category]\n",
    "    dummies = pd.get_dummies(series, prefix=category)\n",
    "    data = pd.concat([data, dummies], axis=1)\n",
    "    #if(categories != \"company\"):\n",
    "        #smdata = pd.concat([smdata, dummies], axis = 1)\n",
    "    \n",
    "#delete most common location for colinearity\n",
    "#del data[\"location_\"+mostCommonLocation]\n",
    "del data[\"company_\"+mostCommonCompany]\n",
    "del data[\"categorizedTitle_\"+str(mostCommonTitle)]\n",
    "\n",
    "del data[\"Intercept\"]"
   ]
  },
  {
   "cell_type": "code",
   "execution_count": null,
   "metadata": {
    "collapsed": true
   },
   "outputs": [],
   "source": [
    "data.head()\n"
   ]
  },
  {
   "cell_type": "code",
   "execution_count": null,
   "metadata": {
    "collapsed": true
   },
   "outputs": [],
   "source": [
    "X = data.iloc[:,7:]\n",
    "y = data[\"HighLow\"]\n",
    "y.name = \"Actual\"\n"
   ]
  },
  {
   "cell_type": "code",
   "execution_count": null,
   "metadata": {
    "collapsed": true
   },
   "outputs": [],
   "source": [
    "logiReg = LogisticRegression()\n",
    "model = logiReg.fit(X,y)\n",
    "predictions = model.predict(X)\n",
    "print \"Model score: \", model.score(X,y)"
   ]
  },
  {
   "cell_type": "code",
   "execution_count": null,
   "metadata": {
    "collapsed": true
   },
   "outputs": [],
   "source": [
    "print \"Accuracy score: \", accuracy_score(y,predictions)\n",
    "print \"Precision score: \", precision_score(y,predictions)\n",
    "print \"Recall score: \", recall_score(y,predictions)"
   ]
  },
  {
   "cell_type": "code",
   "execution_count": null,
   "metadata": {
    "collapsed": true
   },
   "outputs": [],
   "source": [
    "pd.crosstab(y,predictions)\n"
   ]
  },
  {
   "cell_type": "code",
   "execution_count": null,
   "metadata": {
    "collapsed": true
   },
   "outputs": [],
   "source": []
  },
  {
   "cell_type": "code",
   "execution_count": null,
   "metadata": {
    "collapsed": true
   },
   "outputs": [],
   "source": []
  },
  {
   "cell_type": "code",
   "execution_count": null,
   "metadata": {
    "collapsed": true
   },
   "outputs": [],
   "source": []
  },
  {
   "cell_type": "markdown",
   "metadata": {
    "focus": false,
    "id": "a7afb2c0-d41e-4779-8216-91cd8dd4473f"
   },
   "source": [
    "#### Thought experiment: What is the baseline accuracy for this model?"
   ]
  },
  {
   "cell_type": "code",
   "execution_count": null,
   "metadata": {
    "collapsed": true,
    "focus": false,
    "id": "87a17d3d-b7f4-4747-9f75-f9af1d18a174"
   },
   "outputs": [],
   "source": [
    "## YOUR CODE HERE"
   ]
  },
  {
   "cell_type": "markdown",
   "metadata": {
    "focus": false,
    "id": "4fb29de2-5b98-474c-a4ad-5170b72b9aea"
   },
   "source": [
    "#### Create a Logistic Regression model to predict High/Low salary using statsmodel. Start by ONLY using the location as a feature. Display the coefficients and write a short summary of what they mean."
   ]
  },
  {
   "cell_type": "code",
   "execution_count": null,
   "metadata": {
    "collapsed": false,
    "focus": false,
    "id": "ddbc6159-6854-4ca7-857f-bfecdaf6d9c2"
   },
   "outputs": [],
   "source": [
    "## YOUR CODE HERE"
   ]
  },
  {
   "cell_type": "markdown",
   "metadata": {
    "focus": false,
    "id": "0ef04f32-419c-4bf2-baf7-48201f03df89"
   },
   "source": [
    "#### Create a few new variables in your dataframe to represent interesting features of a job title.\n",
    "- For example, create a feature that represents whether 'Senior' is in the title \n",
    "- or whether 'Manager' is in the title. \n",
    "- Then build a new Logistic Regression model with these features. Do they add any value? \n"
   ]
  },
  {
   "cell_type": "code",
   "execution_count": null,
   "metadata": {
    "collapsed": false,
    "focus": false,
    "id": "068dc1cf-7fd7-4f27-a1f1-7f0a5a221d29"
   },
   "outputs": [],
   "source": [
    "## YOUR CODE HERE"
   ]
  },
  {
   "cell_type": "markdown",
   "metadata": {
    "focus": false,
    "id": "9c9274ef-c9f5-4d56-b286-ecc8709eff9f"
   },
   "source": [
    "#### Rebuild this model with scikit-learn.\n",
    "- You can either create the dummy features manually or use the `dmatrix` function from `patsy`\n",
    "- Remember to scale the feature variables as well!\n"
   ]
  },
  {
   "cell_type": "code",
   "execution_count": null,
   "metadata": {
    "collapsed": false,
    "focus": false,
    "id": "b76f65cd-cd3a-4e91-af55-12880be7b057"
   },
   "outputs": [],
   "source": [
    "## YOUR CODE HERE"
   ]
  },
  {
   "cell_type": "markdown",
   "metadata": {
    "focus": false,
    "id": "9367beff-72ba-4768-a0ba-a50b335de61d"
   },
   "source": [
    "#### Use cross-validation in scikit-learn to evaluate the model above. \n",
    "- Evaluate the accuracy, AUC, precision and recall of the model. \n",
    "- Discuss the differences and explain when you want a high-recall or a high-precision model in this scenario."
   ]
  },
  {
   "cell_type": "code",
   "execution_count": null,
   "metadata": {
    "collapsed": false,
    "focus": false,
    "id": "269b9e7c-60b5-4a06-8255-881d7395bc1b"
   },
   "outputs": [],
   "source": [
    "## YOUR CODE HERE"
   ]
  },
  {
   "cell_type": "markdown",
   "metadata": {
    "focus": false,
    "id": "8c22664b-92e4-4fc2-b7ac-fbac865845d3"
   },
   "source": [
    "#### Compare L1 and L2 regularization for this logistic regression model. What effect does this have on the coefficients learned?"
   ]
  },
  {
   "cell_type": "code",
   "execution_count": null,
   "metadata": {
    "collapsed": false,
    "focus": false,
    "id": "172fd952-5012-4630-81f4-1206da6eb820"
   },
   "outputs": [],
   "source": [
    "## YOUR CODE HERE\n",
    "logiReg = LogisticRegression()\n",
    "logiReg.penalty = \"l1\"\n",
    "model = logiReg.fit(X,y)\n",
    "predictions = model.predict(X)\n",
    "print \"Model score: \", model.score(X,y)\n"
   ]
  },
  {
   "cell_type": "code",
   "execution_count": null,
   "metadata": {
    "collapsed": false,
    "focus": false,
    "id": "56cc8854-d722-411d-a6c7-e86310710f67"
   },
   "outputs": [],
   "source": [
    "## YOUR CODE HERE\n",
    "print \"Accuracy score: \", accuracy_score(y,predictions)\n",
    "print \"Precision score: \", precision_score(y,predictions)\n",
    "print \"Recall score: \", recall_score(y,predictions)"
   ]
  },
  {
   "cell_type": "code",
   "execution_count": null,
   "metadata": {
    "collapsed": true
   },
   "outputs": [],
   "source": [
    "pd.crosstab(y,predictions)\n"
   ]
  },
  {
   "cell_type": "code",
   "execution_count": null,
   "metadata": {
    "collapsed": true
   },
   "outputs": [],
   "source": [
    "logiReg = LogisticRegression()\n",
    "logiReg.penalty = \"l2\"\n",
    "model = logiReg.fit(X,y)\n",
    "predictions = model.predict(X)\n",
    "print \"Model score: \", model.score(X,y)"
   ]
  },
  {
   "cell_type": "code",
   "execution_count": null,
   "metadata": {
    "collapsed": true
   },
   "outputs": [],
   "source": [
    "print \"Accuracy score: \", accuracy_score(y,predictions)\n",
    "print \"Precision score: \", precision_score(y,predictions)\n",
    "print \"Recall score: \", recall_score(y,predictions)"
   ]
  },
  {
   "cell_type": "code",
   "execution_count": null,
   "metadata": {
    "collapsed": true
   },
   "outputs": [],
   "source": [
    "pd.crosstab(y,predictions)\n"
   ]
  },
  {
   "cell_type": "code",
   "execution_count": null,
   "metadata": {
    "collapsed": true
   },
   "outputs": [],
   "source": []
  },
  {
   "cell_type": "code",
   "execution_count": null,
   "metadata": {
    "collapsed": true
   },
   "outputs": [],
   "source": []
  },
  {
   "cell_type": "markdown",
   "metadata": {
    "focus": false,
    "id": "fead9b5b-7316-405d-87fd-e144dff0cbeb"
   },
   "source": [
    "#### Continue to incorporate other text features from the title or summary that you believe will predict the salary and examine their coefficients"
   ]
  },
  {
   "cell_type": "markdown",
   "metadata": {
    "focus": false,
    "id": "12d5edeb-a272-43a0-9977-d951f12fedfb"
   },
   "source": [
    "#### Take ~100 scraped entries with salaries. Convert them to use with your model and predict the salary - which entries have the highest predicted salaries?"
   ]
  },
  {
   "cell_type": "markdown",
   "metadata": {
    "focus": false,
    "id": "3be94357-e551-4094-b784-2df039216d33"
   },
   "source": [
    "### BONUS "
   ]
  },
  {
   "cell_type": "markdown",
   "metadata": {
    "focus": false,
    "id": "db045898-1d2d-4af2-8e79-437c4c7546b4"
   },
   "source": [
    "#### Bonus: Use Count Vectorizer from scikit-learn to create features from the text summaries. \n",
    "- Examine using count or binary features in the model\n",
    "- Re-evaluate the logistic regression model using these. Does this improve the model performance? \n",
    "- What text features are the most valuable? "
   ]
  },
  {
   "cell_type": "code",
   "execution_count": null,
   "metadata": {
    "collapsed": false,
    "focus": false,
    "id": "4239e458-28bd-4675-8db3-c1d9c02b9854"
   },
   "outputs": [],
   "source": [
    "## YOUR CODE HERE"
   ]
  },
  {
   "cell_type": "code",
   "execution_count": null,
   "metadata": {
    "collapsed": false,
    "focus": false,
    "id": "fec80936-37bc-4922-89bd-b5d615566c9c"
   },
   "outputs": [],
   "source": [
    "## YOUR CODE HERE"
   ]
  },
  {
   "cell_type": "markdown",
   "metadata": {
    "focus": false,
    "id": "d42b9fd8-39d5-416a-b40b-7410e6396c11"
   },
   "source": [
    "#### Re-test L1 and L2 regularization. You can use LogisticRegressionCV to find the optimal reguarlization parameters. \n",
    "- Re-test what text features are most valuable.  \n",
    "- How do L1 and L2 change the coefficients?"
   ]
  },
  {
   "cell_type": "code",
   "execution_count": null,
   "metadata": {
    "collapsed": false,
    "focus": false,
    "id": "7570e237-c8cc-4e26-b569-7aee10627e79"
   },
   "outputs": [],
   "source": [
    "## YOUR CODE HERE"
   ]
  },
  {
   "cell_type": "code",
   "execution_count": null,
   "metadata": {
    "collapsed": true,
    "focus": false,
    "id": "e3a0c83d-e3b8-4bed-b864-7e795b34a3d4"
   },
   "outputs": [],
   "source": []
  }
 ],
 "metadata": {
  "kernelspec": {
   "display_name": "Python 2",
   "language": "python",
   "name": "python2"
  },
  "language_info": {
   "codemirror_mode": {
    "name": "ipython",
    "version": 2
   },
   "file_extension": ".py",
   "mimetype": "text/x-python",
   "name": "python",
   "nbconvert_exporter": "python",
   "pygments_lexer": "ipython2",
   "version": "2.7.11"
  }
 },
 "nbformat": 4,
 "nbformat_minor": 0
}
