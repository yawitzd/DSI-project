{
 "cells": [
  {
   "cell_type": "code",
   "execution_count": 1,
   "metadata": {
    "collapsed": true
   },
   "outputs": [],
   "source": [
    "import os\n",
    "import subprocess\n",
    "import collections\n",
    "import re\n",
    "import csv\n",
    "import json\n",
    "import math\n",
    "\n",
    "import pandas as pd\n",
    "import numpy as np\n",
    "import scipy\n",
    "\n",
    "from sklearn.ensemble import RandomForestClassifier\n",
    "from sklearn.ensemble import RandomForestRegressor\n",
    "\n",
    "import psycopg2\n",
    "import requests\n",
    "from imdbpie import Imdb\n",
    "import nltk\n",
    "\n",
    "import urllib\n",
    "from bs4 import BeautifulSoup\n",
    "\n",
    "import matplotlib.pyplot as plt\n",
    "import seaborn as sns\n",
    "import matplotlib\n",
    "matplotlib.style.use('ggplot')\n",
    "%matplotlib inline\n",
    "\n",
    "# set a random state to be used throughout\n",
    "rs = 12"
   ]
  },
  {
   "cell_type": "code",
   "execution_count": 2,
   "metadata": {
    "collapsed": false
   },
   "outputs": [],
   "source": [
    "# connecting to IMDB API\n",
    "imdb = Imdb()\n",
    "imdb = Imdb(anonymize=True)"
   ]
  },
  {
   "cell_type": "code",
   "execution_count": 3,
   "metadata": {
    "collapsed": false
   },
   "outputs": [
    {
     "data": {
      "text/plain": [
       "[{u'can_rate': True,\n",
       "  u'image': {u'height': 1388,\n",
       "   u'url': u'http://ia.media-imdb.com/images/M/MV5BODU4MjU4NjIwNl5BMl5BanBnXkFtZTgwMDU2MjEyMDE@._V1_.jpg',\n",
       "   u'width': 933},\n",
       "  u'num_votes': 1682803,\n",
       "  u'rating': 9.3,\n",
       "  u'tconst': u'tt0111161',\n",
       "  u'title': u'The Shawshank Redemption',\n",
       "  u'type': u'feature',\n",
       "  u'year': u'1994'},\n",
       " {u'can_rate': True,\n",
       "  u'image': {u'height': 500,\n",
       "   u'url': u'http://ia.media-imdb.com/images/M/MV5BMjEyMjcyNDI4MF5BMl5BanBnXkFtZTcwMDA5Mzg3OA@@._V1_.jpg',\n",
       "   u'width': 333},\n",
       "  u'num_votes': 1151252,\n",
       "  u'rating': 9.2,\n",
       "  u'tconst': u'tt0068646',\n",
       "  u'title': u'The Godfather',\n",
       "  u'type': u'feature',\n",
       "  u'year': u'1972'},\n",
       " {u'can_rate': True,\n",
       "  u'image': {u'height': 500,\n",
       "   u'url': u'http://ia.media-imdb.com/images/M/MV5BNDc2NTM3MzU1Nl5BMl5BanBnXkFtZTcwMTA5Mzg3OA@@._V1_.jpg',\n",
       "   u'width': 333},\n",
       "  u'num_votes': 787479,\n",
       "  u'rating': 9,\n",
       "  u'tconst': u'tt0071562',\n",
       "  u'title': u'The Godfather: Part II',\n",
       "  u'type': u'feature',\n",
       "  u'year': u'1974'},\n",
       " {u'can_rate': True,\n",
       "  u'image': {u'height': 2048,\n",
       "   u'url': u'http://ia.media-imdb.com/images/M/MV5BMTMxNTMwODM0NF5BMl5BanBnXkFtZTcwODAyMTk2Mw@@._V1_.jpg',\n",
       "   u'width': 1383},\n",
       "  u'num_votes': 1667685,\n",
       "  u'rating': 9,\n",
       "  u'tconst': u'tt0468569',\n",
       "  u'title': u'The Dark Knight',\n",
       "  u'type': u'feature',\n",
       "  u'year': u'2008'}]"
      ]
     },
     "execution_count": 3,
     "metadata": {},
     "output_type": "execute_result"
    }
   ],
   "source": [
    "# Querying top 250 movies\n",
    "movies = imdb.top_250()\n",
    "movies[0:4]"
   ]
  },
  {
   "cell_type": "code",
   "execution_count": 4,
   "metadata": {
    "collapsed": false
   },
   "outputs": [
    {
     "data": {
      "text/html": [
       "<div>\n",
       "<table border=\"1\" class=\"dataframe\">\n",
       "  <thead>\n",
       "    <tr style=\"text-align: right;\">\n",
       "      <th></th>\n",
       "      <th>num_votes</th>\n",
       "      <th>rating</th>\n",
       "      <th>tconst</th>\n",
       "      <th>title</th>\n",
       "      <th>year</th>\n",
       "    </tr>\n",
       "  </thead>\n",
       "  <tbody>\n",
       "    <tr>\n",
       "      <th>0</th>\n",
       "      <td>1682803</td>\n",
       "      <td>9.3</td>\n",
       "      <td>tt0111161</td>\n",
       "      <td>The Shawshank Redemption</td>\n",
       "      <td>1994</td>\n",
       "    </tr>\n",
       "    <tr>\n",
       "      <th>1</th>\n",
       "      <td>1151252</td>\n",
       "      <td>9.2</td>\n",
       "      <td>tt0068646</td>\n",
       "      <td>The Godfather</td>\n",
       "      <td>1972</td>\n",
       "    </tr>\n",
       "    <tr>\n",
       "      <th>2</th>\n",
       "      <td>787479</td>\n",
       "      <td>9.0</td>\n",
       "      <td>tt0071562</td>\n",
       "      <td>The Godfather: Part II</td>\n",
       "      <td>1974</td>\n",
       "    </tr>\n",
       "    <tr>\n",
       "      <th>3</th>\n",
       "      <td>1667685</td>\n",
       "      <td>9.0</td>\n",
       "      <td>tt0468569</td>\n",
       "      <td>The Dark Knight</td>\n",
       "      <td>2008</td>\n",
       "    </tr>\n",
       "    <tr>\n",
       "      <th>4</th>\n",
       "      <td>861274</td>\n",
       "      <td>8.9</td>\n",
       "      <td>tt0108052</td>\n",
       "      <td>Schindler's List</td>\n",
       "      <td>1993</td>\n",
       "    </tr>\n",
       "  </tbody>\n",
       "</table>\n",
       "</div>"
      ],
      "text/plain": [
       "   num_votes  rating     tconst                     title  year\n",
       "0    1682803     9.3  tt0111161  The Shawshank Redemption  1994\n",
       "1    1151252     9.2  tt0068646             The Godfather  1972\n",
       "2     787479     9.0  tt0071562    The Godfather: Part II  1974\n",
       "3    1667685     9.0  tt0468569           The Dark Knight  2008\n",
       "4     861274     8.9  tt0108052          Schindler's List  1993"
      ]
     },
     "execution_count": 4,
     "metadata": {},
     "output_type": "execute_result"
    }
   ],
   "source": [
    "# Retrieving columns that I think will be useful \n",
    "top250 = pd.DataFrame(movies)[['num_votes','rating', 'tconst', 'title', 'year']]\n",
    "top250.head()"
   ]
  },
  {
   "cell_type": "code",
   "execution_count": 5,
   "metadata": {
    "collapsed": false
   },
   "outputs": [
    {
     "name": "stdout",
     "output_type": "stream",
     "text": [
      "<class 'pandas.core.frame.DataFrame'>\n",
      "RangeIndex: 250 entries, 0 to 249\n",
      "Data columns (total 5 columns):\n",
      "num_votes    250 non-null int64\n",
      "rating       250 non-null float64\n",
      "tconst       250 non-null object\n",
      "title        250 non-null object\n",
      "year         250 non-null object\n",
      "dtypes: float64(1), int64(1), object(3)\n",
      "memory usage: 9.8+ KB\n"
     ]
    }
   ],
   "source": [
    "top250.info()"
   ]
  },
  {
   "cell_type": "code",
   "execution_count": 6,
   "metadata": {
    "collapsed": false
   },
   "outputs": [
    {
     "data": {
      "text/html": [
       "<div>\n",
       "<table border=\"1\" class=\"dataframe\">\n",
       "  <thead>\n",
       "    <tr style=\"text-align: right;\">\n",
       "      <th></th>\n",
       "      <th>num_votes</th>\n",
       "      <th>rating</th>\n",
       "      <th>tconst</th>\n",
       "      <th>title</th>\n",
       "      <th>year</th>\n",
       "    </tr>\n",
       "  </thead>\n",
       "  <tbody>\n",
       "    <tr>\n",
       "      <th>0</th>\n",
       "      <td>1682803</td>\n",
       "      <td>9.3</td>\n",
       "      <td>tt0111161</td>\n",
       "      <td>The Shawshank Redemption</td>\n",
       "      <td>1994</td>\n",
       "    </tr>\n",
       "    <tr>\n",
       "      <th>1</th>\n",
       "      <td>1151252</td>\n",
       "      <td>9.2</td>\n",
       "      <td>tt0068646</td>\n",
       "      <td>The Godfather</td>\n",
       "      <td>1972</td>\n",
       "    </tr>\n",
       "    <tr>\n",
       "      <th>2</th>\n",
       "      <td>787479</td>\n",
       "      <td>9.0</td>\n",
       "      <td>tt0071562</td>\n",
       "      <td>The Godfather: Part II</td>\n",
       "      <td>1974</td>\n",
       "    </tr>\n",
       "    <tr>\n",
       "      <th>3</th>\n",
       "      <td>1667685</td>\n",
       "      <td>9.0</td>\n",
       "      <td>tt0468569</td>\n",
       "      <td>The Dark Knight</td>\n",
       "      <td>2008</td>\n",
       "    </tr>\n",
       "    <tr>\n",
       "      <th>6</th>\n",
       "      <td>1318935</td>\n",
       "      <td>8.9</td>\n",
       "      <td>tt0110912</td>\n",
       "      <td>Pulp Fiction</td>\n",
       "      <td>1994</td>\n",
       "    </tr>\n",
       "  </tbody>\n",
       "</table>\n",
       "</div>"
      ],
      "text/plain": [
       "   num_votes  rating     tconst                     title  year\n",
       "0    1682803     9.3  tt0111161  The Shawshank Redemption  1994\n",
       "1    1151252     9.2  tt0068646             The Godfather  1972\n",
       "2     787479     9.0  tt0071562    The Godfather: Part II  1974\n",
       "3    1667685     9.0  tt0468569           The Dark Knight  2008\n",
       "6    1318935     8.9  tt0110912              Pulp Fiction  1994"
      ]
     },
     "execution_count": 6,
     "metadata": {},
     "output_type": "execute_result"
    }
   ],
   "source": [
    "# select the top 100 movies\n",
    "top100 = top250.sort_values('rating', ascending=False)[0:100]\n",
    "top100.head()"
   ]
  },
  {
   "cell_type": "code",
   "execution_count": 7,
   "metadata": {
    "collapsed": true
   },
   "outputs": [],
   "source": [
    "# function to convert string to list of strings, removing whitespace\n",
    "# from start and end (to use for getting lists of genres)\n",
    "def strtolist(string):\n",
    "    result = []\n",
    "    current = \"\"\n",
    "    for c in string:\n",
    "        if c == \",\":\n",
    "            result.append(current.strip())\n",
    "            current=\"\"\n",
    "        else:\n",
    "            current+=(c)\n",
    "    result.append(current.strip())\n",
    "    return result"
   ]
  },
  {
   "cell_type": "code",
   "execution_count": 8,
   "metadata": {
    "collapsed": false
   },
   "outputs": [],
   "source": [
    "# create dictionary of movie id: {dictionary of genres and runtimes}\n",
    "# also create list of all genres across all movies\n",
    "allgenres=[]\n",
    "genreruntime = {}\n",
    "for mID in top100.tconst:\n",
    "    url = \"http://www.omdbapi.com/?i=\"+mID\n",
    "    data = urllib.urlopen(url)\n",
    "    parsed_data = json.loads(data.read())\n",
    "    genres = strtolist(parsed_data[\"Genre\"])\n",
    "    runtime = parsed_data[\"Runtime\"]\n",
    "    rt = int(runtime[0:(len(runtime)-4)])\n",
    "    genreruntime[mID] = {'genres': genres, 'runtime': rt}\n",
    "    for genre in genres:\n",
    "        if genre not in allgenres:\n",
    "            allgenres.append(genre)"
   ]
  },
  {
   "cell_type": "code",
   "execution_count": 9,
   "metadata": {
    "collapsed": false
   },
   "outputs": [],
   "source": [
    "# add columns for Runtime and Genres to dataframe\n",
    "top100[\"runtime_mins\"] = np.nan\n",
    "for genre in allgenres:\n",
    "    top100[genre] = 0"
   ]
  },
  {
   "cell_type": "code",
   "execution_count": 10,
   "metadata": {
    "collapsed": true
   },
   "outputs": [],
   "source": [
    "# populate our new columns with values for each movie\n",
    "for mID in top100.tconst:\n",
    "    i = top100[top100['tconst']==mID].index\n",
    "    top100.set_value(i, 'runtime_mins', genreruntime[mID]['runtime'])\n",
    "    for genre in genreruntime[mID]['genres']:\n",
    "        top100.set_value(i, genre, 1)"
   ]
  },
  {
   "cell_type": "code",
   "execution_count": 11,
   "metadata": {
    "collapsed": false
   },
   "outputs": [
    {
     "data": {
      "text/plain": [
       "Drama        0.72\n",
       "Crime        0.26\n",
       "Adventure    0.25\n",
       "Action       0.20\n",
       "Mystery      0.13\n",
       "Thriller     0.11\n",
       "Comedy       0.11\n",
       "Biography    0.09\n",
       "Sci-Fi       0.08\n",
       "Animation    0.07\n",
       "Romance      0.07\n",
       "Fantasy      0.07\n",
       "War          0.07\n",
       "Family       0.05\n",
       "History      0.04\n",
       "Western      0.04\n",
       "Horror       0.04\n",
       "Film-Noir    0.03\n",
       "Music        0.01\n",
       "Sport        0.01\n",
       "dtype: float64"
      ]
     },
     "execution_count": 11,
     "metadata": {},
     "output_type": "execute_result"
    }
   ],
   "source": [
    "# look at % of top 100 that genre constitutes (sum is >100% due to \n",
    "# some movies having multiple genres). Make sure all nonzero\n",
    "top100[allgenres].sum().sort_values(ascending=False)/top100.tconst.count()"
   ]
  },
  {
   "cell_type": "code",
   "execution_count": 12,
   "metadata": {
    "collapsed": false
   },
   "outputs": [],
   "source": [
    "# change scifi and film noir column headers to avoid \"-\" char\n",
    "top100.rename(columns = {'Sci-Fi': 'Sci_Fi', 'Film-Noir': 'Film_Noir'}, inplace=True)"
   ]
  },
  {
   "cell_type": "code",
   "execution_count": 13,
   "metadata": {
    "collapsed": false
   },
   "outputs": [],
   "source": [
    "# Write the Results to a csv\n",
    "top100.to_csv('top100.csv', encoding='utf-8', index=False)"
   ]
  },
  {
   "cell_type": "code",
   "execution_count": 14,
   "metadata": {
    "collapsed": false
   },
   "outputs": [],
   "source": [
    "# use imdbpie to extract the reviews and ratings for each movie\n",
    "top100reviews= {}\n",
    "for mID in top100.tconst:\n",
    "    reviews = imdb.get_title_reviews(mID, max_results=10000)\n",
    "    revlist = []\n",
    "    for review in reviews:\n",
    "        revdict = {'revText': review.text, 'revRating': review.rating}\n",
    "        revlist.append(revdict)\n",
    "    top100reviews[mID] = revlist"
   ]
  },
  {
   "cell_type": "code",
   "execution_count": 15,
   "metadata": {
    "collapsed": false
   },
   "outputs": [
    {
     "name": "stdout",
     "output_type": "stream",
     "text": [
      "100\n"
     ]
    }
   ],
   "source": [
    "print len(top100reviews)"
   ]
  },
  {
   "cell_type": "code",
   "execution_count": 16,
   "metadata": {
    "collapsed": false
   },
   "outputs": [],
   "source": [
    "# use regex to strip alphanumeric chars from each review and separately\n",
    "# make list of all reviews\n",
    "allReviews = []\n",
    "for movie in top100reviews:\n",
    "    for i in range(len(top100reviews[movie])):\n",
    "        strippedText = re.sub(r'([^\\s\\w]|_)+', '', top100reviews[movie][i]['revText']).replace('\\n', ' ')\n",
    "        allReviews.append(strippedText)\n",
    "        top100reviews[movie][i]['revText'] = strippedText\n",
    "        "
   ]
  },
  {
   "cell_type": "code",
   "execution_count": 17,
   "metadata": {
    "collapsed": true
   },
   "outputs": [],
   "source": [
    "from sklearn.feature_extraction.text import TfidfVectorizer\n",
    "tvect = TfidfVectorizer(ngram_range = (1,2), stop_words='english', max_features=200)"
   ]
  },
  {
   "cell_type": "code",
   "execution_count": 18,
   "metadata": {
    "collapsed": true
   },
   "outputs": [],
   "source": [
    "# train tvect on all reviews\n",
    "tdm = tvect.fit_transform(allReviews)"
   ]
  },
  {
   "cell_type": "code",
   "execution_count": 19,
   "metadata": {
    "collapsed": false
   },
   "outputs": [],
   "source": [
    "# merge the reviews and ratings by creating a 3-column dataframe \n",
    "# with movie, review text and rating\n",
    "\n",
    "top100revDF = pd.DataFrame(columns = ['mID', 'revText', 'revRating'])\n",
    "\n",
    "for movie in top100reviews:\n",
    "    for i in range(len(top100reviews[movie])):\n",
    "        review = top100reviews[movie][i]\n",
    "        top100revDF = top100revDF.append(pd.DataFrame([[movie, review['revText'], \n",
    "            review['revRating']]], columns = ['mID', 'revText', 'revRating']), \n",
    "            ignore_index=True)"
   ]
  },
  {
   "cell_type": "code",
   "execution_count": 20,
   "metadata": {
    "collapsed": true
   },
   "outputs": [],
   "source": [
    "# change mID column to tconst, to line up with the top100 table\n",
    "\n",
    "top100revDF['tconst'] = top100revDF['mID']\n",
    "del top100revDF['mID']"
   ]
  },
  {
   "cell_type": "code",
   "execution_count": 21,
   "metadata": {
    "collapsed": false
   },
   "outputs": [],
   "source": [
    "# remove \\r from reviews\n",
    "top100revDF['revText'] = top100revDF['revText'].replace('\\r', ' ').replace('\\\\n', ' ').replace('\\\\r',' ')"
   ]
  },
  {
   "cell_type": "code",
   "execution_count": 22,
   "metadata": {
    "collapsed": false
   },
   "outputs": [],
   "source": [
    "# remove null rows\n",
    "nonnull = top100revDF.dropna()"
   ]
  },
  {
   "cell_type": "code",
   "execution_count": 23,
   "metadata": {
    "collapsed": true
   },
   "outputs": [],
   "source": [
    "# create a csv file \n",
    "#nonnull.to_csv('reviews.csv', encoding='utf-8', index=False)"
   ]
  },
  {
   "cell_type": "code",
   "execution_count": 24,
   "metadata": {
    "collapsed": false
   },
   "outputs": [
    {
     "name": "stderr",
     "output_type": "stream",
     "text": [
      "/Users/Tamara/anaconda/lib/python2.7/site-packages/IPython/config.py:13: ShimWarning: The `IPython.config` package has been deprecated. You should import from traitlets.config instead.\n",
      "  \"You should import from traitlets.config instead.\", ShimWarning)\n",
      "/Users/Tamara/anaconda/lib/python2.7/site-packages/IPython/utils/traitlets.py:5: UserWarning: IPython.utils.traitlets has moved to a top-level traitlets package.\n",
      "  warn(\"IPython.utils.traitlets has moved to a top-level traitlets package.\")\n"
     ]
    }
   ],
   "source": [
    "%reload_ext sql"
   ]
  },
  {
   "cell_type": "code",
   "execution_count": 25,
   "metadata": {
    "collapsed": false
   },
   "outputs": [
    {
     "data": {
      "text/plain": [
       "u'Connected: None@'"
      ]
     },
     "execution_count": 25,
     "metadata": {},
     "output_type": "execute_result"
    }
   ],
   "source": [
    "%%sql \n",
    "postgresql://localhost:5432/"
   ]
  },
  {
   "cell_type": "code",
   "execution_count": 26,
   "metadata": {
    "collapsed": false
   },
   "outputs": [
    {
     "name": "stdout",
     "output_type": "stream",
     "text": [
      "Done.\n",
      "Done.\n",
      "100 rows affected.\n"
     ]
    },
    {
     "data": {
      "text/plain": [
       "[]"
      ]
     },
     "execution_count": 26,
     "metadata": {},
     "output_type": "execute_result"
    }
   ],
   "source": [
    "%%sql\n",
    "DROP TABLE IF EXISTS top100;\n",
    "CREATE TABLE top100\n",
    "(num_votes integer,\n",
    "rating decimal,\n",
    "tconst text,\n",
    "title text,\n",
    "year integer,\n",
    "runtime_mins numeric,\n",
    "Crime integer,\n",
    "Drama integer,\n",
    "Action integer,\n",
    "Thriller integer,\n",
    "Adventure integer,\n",
    "Fantasy integer,\n",
    "Western integer,\n",
    "Biography integer,\n",
    "History integer,\n",
    "Romance integer,\n",
    "Mystery integer,\n",
    "Sci_Fi integer,\n",
    "War integer,\n",
    "Comedy integer,\n",
    "Animation integer,\n",
    "Family integer,\n",
    "Horror integer,\n",
    "Film_Noir integer,\n",
    "Music integer,\n",
    "Sport integer\n",
    ");\n",
    "\n",
    "COPY top100 FROM\n",
    "'/Users/Tamara/top100.csv'\n",
    "DELIMITER ',' CSV HEADER;\n"
   ]
  },
  {
   "cell_type": "code",
   "execution_count": 27,
   "metadata": {
    "collapsed": false
   },
   "outputs": [
    {
     "name": "stdout",
     "output_type": "stream",
     "text": [
      "Done.\n",
      "Done.\n",
      "95937 rows affected.\n"
     ]
    },
    {
     "data": {
      "text/plain": [
       "[]"
      ]
     },
     "execution_count": 27,
     "metadata": {},
     "output_type": "execute_result"
    }
   ],
   "source": [
    "%%sql\n",
    "DROP TABLE IF EXISTS reviews;\n",
    "CREATE TABLE reviews \n",
    "(revText text,\n",
    " revRating decimal,\n",
    " tconst text\n",
    ");\n",
    "\n",
    "COPY reviews FROM '/Users/Tamara/reviews.csv'\n",
    "DELIMITER ',' CSV HEADER;\n"
   ]
  },
  {
   "cell_type": "code",
   "execution_count": 28,
   "metadata": {
    "collapsed": false
   },
   "outputs": [
    {
     "name": "stdout",
     "output_type": "stream",
     "text": [
      "95934 rows affected.\n"
     ]
    }
   ],
   "source": [
    "joined = %sql SELECT * FROM reviews JOIN top100 ON reviews.\"tconst\"=top100.\"tconst\";"
   ]
  },
  {
   "cell_type": "code",
   "execution_count": 29,
   "metadata": {
    "collapsed": false
   },
   "outputs": [
    {
     "data": {
      "text/html": [
       "<div>\n",
       "<table border=\"1\" class=\"dataframe\">\n",
       "  <thead>\n",
       "    <tr style=\"text-align: right;\">\n",
       "      <th></th>\n",
       "      <th>revText</th>\n",
       "      <th>revRating</th>\n",
       "      <th>tconst</th>\n",
       "      <th>num_votes</th>\n",
       "      <th>rating</th>\n",
       "      <th>tconst</th>\n",
       "      <th>title</th>\n",
       "      <th>year</th>\n",
       "      <th>runtime_mins</th>\n",
       "      <th>Crime</th>\n",
       "      <th>...</th>\n",
       "      <th>Animation</th>\n",
       "      <th>Family</th>\n",
       "      <th>Comedy</th>\n",
       "      <th>War</th>\n",
       "      <th>Horror</th>\n",
       "      <th>Mystery</th>\n",
       "      <th>Thriller</th>\n",
       "      <th>Film_Noir</th>\n",
       "      <th>Music</th>\n",
       "      <th>Sport</th>\n",
       "    </tr>\n",
       "  </thead>\n",
       "  <tbody>\n",
       "    <tr>\n",
       "      <th>0</th>\n",
       "      <td>httpswitchingreelscom20140128sundancereviewwhi...</td>\n",
       "      <td>10.0</td>\n",
       "      <td>tt2582802</td>\n",
       "      <td>395007</td>\n",
       "      <td>8.5</td>\n",
       "      <td>tt2582802</td>\n",
       "      <td>Whiplash</td>\n",
       "      <td>2014</td>\n",
       "      <td>107.0</td>\n",
       "      <td>0</td>\n",
       "      <td>...</td>\n",
       "      <td>0</td>\n",
       "      <td>0</td>\n",
       "      <td>0</td>\n",
       "      <td>0</td>\n",
       "      <td>0</td>\n",
       "      <td>0</td>\n",
       "      <td>0</td>\n",
       "      <td>0</td>\n",
       "      <td>1</td>\n",
       "      <td>0</td>\n",
       "    </tr>\n",
       "    <tr>\n",
       "      <th>1</th>\n",
       "      <td>Taking the festival circuit by storm since its...</td>\n",
       "      <td>10.0</td>\n",
       "      <td>tt2582802</td>\n",
       "      <td>395007</td>\n",
       "      <td>8.5</td>\n",
       "      <td>tt2582802</td>\n",
       "      <td>Whiplash</td>\n",
       "      <td>2014</td>\n",
       "      <td>107.0</td>\n",
       "      <td>0</td>\n",
       "      <td>...</td>\n",
       "      <td>0</td>\n",
       "      <td>0</td>\n",
       "      <td>0</td>\n",
       "      <td>0</td>\n",
       "      <td>0</td>\n",
       "      <td>0</td>\n",
       "      <td>0</td>\n",
       "      <td>0</td>\n",
       "      <td>1</td>\n",
       "      <td>0</td>\n",
       "    </tr>\n",
       "    <tr>\n",
       "      <th>2</th>\n",
       "      <td>After seeing Damien Chazelles Whiplash  a film...</td>\n",
       "      <td>9.0</td>\n",
       "      <td>tt2582802</td>\n",
       "      <td>395007</td>\n",
       "      <td>8.5</td>\n",
       "      <td>tt2582802</td>\n",
       "      <td>Whiplash</td>\n",
       "      <td>2014</td>\n",
       "      <td>107.0</td>\n",
       "      <td>0</td>\n",
       "      <td>...</td>\n",
       "      <td>0</td>\n",
       "      <td>0</td>\n",
       "      <td>0</td>\n",
       "      <td>0</td>\n",
       "      <td>0</td>\n",
       "      <td>0</td>\n",
       "      <td>0</td>\n",
       "      <td>0</td>\n",
       "      <td>1</td>\n",
       "      <td>0</td>\n",
       "    </tr>\n",
       "    <tr>\n",
       "      <th>3</th>\n",
       "      <td>There is so many excellent great things to say...</td>\n",
       "      <td>10.0</td>\n",
       "      <td>tt2582802</td>\n",
       "      <td>395007</td>\n",
       "      <td>8.5</td>\n",
       "      <td>tt2582802</td>\n",
       "      <td>Whiplash</td>\n",
       "      <td>2014</td>\n",
       "      <td>107.0</td>\n",
       "      <td>0</td>\n",
       "      <td>...</td>\n",
       "      <td>0</td>\n",
       "      <td>0</td>\n",
       "      <td>0</td>\n",
       "      <td>0</td>\n",
       "      <td>0</td>\n",
       "      <td>0</td>\n",
       "      <td>0</td>\n",
       "      <td>0</td>\n",
       "      <td>1</td>\n",
       "      <td>0</td>\n",
       "    </tr>\n",
       "    <tr>\n",
       "      <th>4</th>\n",
       "      <td>I saw this about 24 hours ago at the Best of F...</td>\n",
       "      <td>9.0</td>\n",
       "      <td>tt2582802</td>\n",
       "      <td>395007</td>\n",
       "      <td>8.5</td>\n",
       "      <td>tt2582802</td>\n",
       "      <td>Whiplash</td>\n",
       "      <td>2014</td>\n",
       "      <td>107.0</td>\n",
       "      <td>0</td>\n",
       "      <td>...</td>\n",
       "      <td>0</td>\n",
       "      <td>0</td>\n",
       "      <td>0</td>\n",
       "      <td>0</td>\n",
       "      <td>0</td>\n",
       "      <td>0</td>\n",
       "      <td>0</td>\n",
       "      <td>0</td>\n",
       "      <td>1</td>\n",
       "      <td>0</td>\n",
       "    </tr>\n",
       "  </tbody>\n",
       "</table>\n",
       "<p>5 rows × 29 columns</p>\n",
       "</div>"
      ],
      "text/plain": [
       "                                             revText revRating     tconst  \\\n",
       "0  httpswitchingreelscom20140128sundancereviewwhi...      10.0  tt2582802   \n",
       "1  Taking the festival circuit by storm since its...      10.0  tt2582802   \n",
       "2  After seeing Damien Chazelles Whiplash  a film...       9.0  tt2582802   \n",
       "3  There is so many excellent great things to say...      10.0  tt2582802   \n",
       "4  I saw this about 24 hours ago at the Best of F...       9.0  tt2582802   \n",
       "\n",
       "   num_votes rating     tconst     title  year runtime_mins  Crime  ...    \\\n",
       "0     395007    8.5  tt2582802  Whiplash  2014        107.0      0  ...     \n",
       "1     395007    8.5  tt2582802  Whiplash  2014        107.0      0  ...     \n",
       "2     395007    8.5  tt2582802  Whiplash  2014        107.0      0  ...     \n",
       "3     395007    8.5  tt2582802  Whiplash  2014        107.0      0  ...     \n",
       "4     395007    8.5  tt2582802  Whiplash  2014        107.0      0  ...     \n",
       "\n",
       "   Animation  Family  Comedy  War  Horror  Mystery  Thriller  Film_Noir  \\\n",
       "0          0       0       0    0       0        0         0          0   \n",
       "1          0       0       0    0       0        0         0          0   \n",
       "2          0       0       0    0       0        0         0          0   \n",
       "3          0       0       0    0       0        0         0          0   \n",
       "4          0       0       0    0       0        0         0          0   \n",
       "\n",
       "   Music  Sport  \n",
       "0      1      0  \n",
       "1      1      0  \n",
       "2      1      0  \n",
       "3      1      0  \n",
       "4      1      0  \n",
       "\n",
       "[5 rows x 29 columns]"
      ]
     },
     "execution_count": 29,
     "metadata": {},
     "output_type": "execute_result"
    }
   ],
   "source": [
    "result = pd.DataFrame(joined, columns = (nonnull.columns).append(top100.columns))\n",
    "result.head()"
   ]
  },
  {
   "cell_type": "code",
   "execution_count": 30,
   "metadata": {
    "collapsed": false
   },
   "outputs": [],
   "source": [
    "# reading in the tables because I had to restart computer\n",
    "nonnull = pd.read_csv('/Users/Tamara/reviews.csv')\n",
    "top100 = pd.read_csv('/Users/Tamara/top100.csv')"
   ]
  },
  {
   "cell_type": "code",
   "execution_count": 31,
   "metadata": {
    "collapsed": true
   },
   "outputs": [],
   "source": [
    "## code in case of problems with the SQL data\n",
    "df = top100.merge(nonnull)"
   ]
  },
  {
   "cell_type": "code",
   "execution_count": 32,
   "metadata": {
    "collapsed": false
   },
   "outputs": [
    {
     "data": {
      "text/plain": [
       "Index([u'num_votes', u'rating', u'tconst', u'title', u'year', u'runtime_mins',\n",
       "       u'Crime', u'Drama', u'Action', u'Adventure', u'Western', u'Biography',\n",
       "       u'History', u'Fantasy', u'Romance', u'Sci_Fi', u'Animation', u'Family',\n",
       "       u'Comedy', u'War', u'Horror', u'Mystery', u'Thriller', u'Film_Noir',\n",
       "       u'Music', u'Sport', u'revText', u'revRating'],\n",
       "      dtype='object')"
      ]
     },
     "execution_count": 32,
     "metadata": {},
     "output_type": "execute_result"
    }
   ],
   "source": [
    "df.columns"
   ]
  },
  {
   "cell_type": "code",
   "execution_count": 33,
   "metadata": {
    "collapsed": true
   },
   "outputs": [],
   "source": [
    "df.rename(columns = {'rating': 'avgRating'}, inplace=True)\n",
    "# drop title and tconst since they won't be used for modeling\n",
    "df.drop(['tconst', 'title'], axis=1, inplace=True)"
   ]
  },
  {
   "cell_type": "code",
   "execution_count": 34,
   "metadata": {
    "collapsed": false
   },
   "outputs": [
    {
     "name": "stdout",
     "output_type": "stream",
     "text": [
      "<class 'pandas.core.frame.DataFrame'>\n",
      "Int64Index: 95934 entries, 0 to 95933\n",
      "Data columns (total 26 columns):\n",
      "num_votes       95934 non-null int64\n",
      "avgRating       95934 non-null float64\n",
      "year            95934 non-null int64\n",
      "runtime_mins    95934 non-null float64\n",
      "Crime           95934 non-null int64\n",
      "Drama           95934 non-null int64\n",
      "Action          95934 non-null int64\n",
      "Adventure       95934 non-null int64\n",
      "Western         95934 non-null int64\n",
      "Biography       95934 non-null int64\n",
      "History         95934 non-null int64\n",
      "Fantasy         95934 non-null int64\n",
      "Romance         95934 non-null int64\n",
      "Sci_Fi          95934 non-null int64\n",
      "Animation       95934 non-null int64\n",
      "Family          95934 non-null int64\n",
      "Comedy          95934 non-null int64\n",
      "War             95934 non-null int64\n",
      "Horror          95934 non-null int64\n",
      "Mystery         95934 non-null int64\n",
      "Thriller        95934 non-null int64\n",
      "Film_Noir       95934 non-null int64\n",
      "Music           95934 non-null int64\n",
      "Sport           95934 non-null int64\n",
      "revText         95934 non-null object\n",
      "revRating       95934 non-null float64\n",
      "dtypes: float64(3), int64(22), object(1)\n",
      "memory usage: 19.8+ MB\n"
     ]
    }
   ],
   "source": [
    "df.info()"
   ]
  },
  {
   "cell_type": "code",
   "execution_count": 35,
   "metadata": {
    "collapsed": false
   },
   "outputs": [
    {
     "data": {
      "text/plain": [
       "<matplotlib.text.Text at 0x1470f7ed0>"
      ]
     },
     "execution_count": 35,
     "metadata": {},
     "output_type": "execute_result"
    },
    {
     "data": {
      "image/png": "[encoded data removed]",
      "text/plain": [
       "<matplotlib.figure.Figure at 0x11ea40a50>"
      ]
     },
     "metadata": {},
     "output_type": "display_data"
    }
   ],
   "source": [
    "# do more votes correspond with higher avg rating?\n",
    "plt.scatter(df['num_votes'], df['avgRating'])\n",
    "plt.xlabel(\"num_votes\")\n",
    "plt.ylabel(\"avgRating\")"
   ]
  },
  {
   "cell_type": "code",
   "execution_count": 36,
   "metadata": {
    "collapsed": false
   },
   "outputs": [
    {
     "data": {
      "text/plain": [
       "<matplotlib.text.Text at 0x146b1b990>"
      ]
     },
     "execution_count": 36,
     "metadata": {},
     "output_type": "execute_result"
    },
    {
     "data": {
      "image/png": "[encoded data removed]",
      "text/plain": [
       "<matplotlib.figure.Figure at 0x18f73dc50>"
      ]
     },
     "metadata": {},
     "output_type": "display_data"
    }
   ],
   "source": [
    "# What does distribution of ratings look like?\n",
    "plt.hist(df['revRating'])\n",
    "plt.xlabel(\"score\")\n",
    "plt.ylabel(\"num reviews\")"
   ]
  },
  {
   "cell_type": "code",
   "execution_count": 37,
   "metadata": {
    "collapsed": true
   },
   "outputs": [],
   "source": [
    "# 1 seems to be most heavily used of low scores - when people dislike\n",
    "# a movie they just score it at 1 rather than bother distinguishing between 1-4 (ish).\n",
    "# Another interpretation is that people whose true opinion of a movie is middling\n",
    "# (between, say, 2-7 rating equivalent) aren't as motivated to share their opinion as\n",
    "# those who either loved or hated the movie."
   ]
  },
  {
   "cell_type": "code",
   "execution_count": 38,
   "metadata": {
    "collapsed": false
   },
   "outputs": [
    {
     "data": {
      "text/plain": [
       "<matplotlib.text.Text at 0x146b05ed0>"
      ]
     },
     "execution_count": 38,
     "metadata": {},
     "output_type": "execute_result"
    },
    {
     "data": {
      "image/png": "[encoded data removed]",
      "text/plain": [
       "<matplotlib.figure.Figure at 0x18f73d590>"
      ]
     },
     "metadata": {},
     "output_type": "display_data"
    }
   ],
   "source": [
    "# look at avg rating vs runtime\n",
    "plt.scatter(df['runtime_mins'], df['avgRating'])\n",
    "plt.xlabel('runtime mins')\n",
    "plt.ylabel('avg rating')"
   ]
  },
  {
   "cell_type": "code",
   "execution_count": 39,
   "metadata": {
    "collapsed": false
   },
   "outputs": [
    {
     "data": {
      "text/plain": [
       "<matplotlib.collections.PathCollection at 0x194480d50>"
      ]
     },
     "execution_count": 39,
     "metadata": {},
     "output_type": "execute_result"
    },
    {
     "data": {
      "image/png": "[encoded data removed]",
      "text/plain": [
       "<matplotlib.figure.Figure at 0x19421fb50>"
      ]
     },
     "metadata": {},
     "output_type": "display_data"
    }
   ],
   "source": [
    "# num votes versus year (are fewer people voting on older movies?)\n",
    "plt.scatter(df['year'], df['num_votes'])"
   ]
  },
  {
   "cell_type": "code",
   "execution_count": 40,
   "metadata": {
    "collapsed": false
   },
   "outputs": [
    {
     "data": {
      "text/plain": [
       "Index([u'num_votes', u'avgRating', u'year', u'runtime_mins', u'Crime',\n",
       "       u'Drama', u'Action', u'Adventure', u'Western', u'Biography', u'History',\n",
       "       u'Fantasy', u'Romance', u'Sci_Fi', u'Animation', u'Family', u'Comedy',\n",
       "       u'War', u'Horror', u'Mystery', u'Thriller', u'Film_Noir', u'Music',\n",
       "       u'Sport', u'revText', u'revRating'],\n",
       "      dtype='object')"
      ]
     },
     "execution_count": 40,
     "metadata": {},
     "output_type": "execute_result"
    }
   ],
   "source": [
    "df.columns"
   ]
  },
  {
   "cell_type": "code",
   "execution_count": 41,
   "metadata": {
    "collapsed": false
   },
   "outputs": [],
   "source": [
    "# define X, y\n",
    "y = df['revRating']\n",
    "X = df.drop(['num_votes', 'avgRating', 'revText', 'revRating'], axis=1)"
   ]
  },
  {
   "cell_type": "code",
   "execution_count": 42,
   "metadata": {
    "collapsed": false
   },
   "outputs": [
    {
     "data": {
      "text/plain": [
       "0    10.0\n",
       "1    10.0\n",
       "2    10.0\n",
       "3     8.0\n",
       "4    10.0\n",
       "Name: revRating, dtype: float64"
      ]
     },
     "execution_count": 42,
     "metadata": {},
     "output_type": "execute_result"
    }
   ],
   "source": [
    "y.head()"
   ]
  },
  {
   "cell_type": "code",
   "execution_count": 43,
   "metadata": {
    "collapsed": false
   },
   "outputs": [],
   "source": [
    "# Need to add tfidf columns to the dataset\n",
    "dft = pd.DataFrame(tvect.transform(df['revText']).toarray(), columns = tvect.get_feature_names())"
   ]
  },
  {
   "cell_type": "code",
   "execution_count": 44,
   "metadata": {
    "collapsed": false
   },
   "outputs": [],
   "source": [
    "X = pd.concat([X, dft], axis = 1)"
   ]
  },
  {
   "cell_type": "code",
   "execution_count": 45,
   "metadata": {
    "collapsed": false
   },
   "outputs": [
    {
     "data": {
      "text/plain": [
       "Index([        u'year', u'runtime_mins',        u'Crime',        u'Drama',\n",
       "             u'Action',    u'Adventure',      u'Western',    u'Biography',\n",
       "            u'History',      u'Fantasy',\n",
       "       ...\n",
       "            u'watched',     u'watching',          u'way',    u'wonderful',\n",
       "               u'work',        u'world',        u'worth',         u'year',\n",
       "              u'years',        u'young'],\n",
       "      dtype='object', length=222)"
      ]
     },
     "execution_count": 45,
     "metadata": {},
     "output_type": "execute_result"
    }
   ],
   "source": [
    "X.columns"
   ]
  },
  {
   "cell_type": "code",
   "execution_count": 46,
   "metadata": {
    "collapsed": false
   },
   "outputs": [],
   "source": [
    "# there are 2 'year' columns, one for release year and one for the word 'year' in a review. Need to rename\n",
    "newColHeaders = X.columns[1:].tolist()\n",
    "newColHeaders.insert(0, \"ReleaseYear\")"
   ]
  },
  {
   "cell_type": "code",
   "execution_count": 47,
   "metadata": {
    "collapsed": false
   },
   "outputs": [],
   "source": [
    "X.columns = newColHeaders"
   ]
  },
  {
   "cell_type": "code",
   "execution_count": 48,
   "metadata": {
    "collapsed": true
   },
   "outputs": [],
   "source": [
    "# build and cross validate the tree\n",
    "from sklearn.tree import DecisionTreeClassifier, DecisionTreeRegressor\n",
    "from sklearn.cross_validation import cross_val_score\n",
    "from sklearn.grid_search import GridSearchCV\n",
    "from sklearn.metrics import classification_report, confusion_matrix"
   ]
  },
  {
   "cell_type": "code",
   "execution_count": 49,
   "metadata": {
    "collapsed": false
   },
   "outputs": [],
   "source": [
    "# instantiate classifier, use max_depth of 4 to control complexity\n",
    "dt = DecisionTreeClassifier(max_depth = 4, random_state = rs)"
   ]
  },
  {
   "cell_type": "code",
   "execution_count": 50,
   "metadata": {
    "collapsed": false
   },
   "outputs": [
    {
     "data": {
      "text/plain": [
       "DecisionTreeClassifier(class_weight=None, criterion='gini', max_depth=4,\n",
       "            max_features=None, max_leaf_nodes=None, min_samples_leaf=1,\n",
       "            min_samples_split=2, min_weight_fraction_leaf=0.0,\n",
       "            presort=False, random_state=12, splitter='best')"
      ]
     },
     "execution_count": 50,
     "metadata": {},
     "output_type": "execute_result"
    }
   ],
   "source": [
    "dt.fit(X,y)"
   ]
  },
  {
   "cell_type": "code",
   "execution_count": 51,
   "metadata": {
    "collapsed": false
   },
   "outputs": [
    {
     "name": "stdout",
     "output_type": "stream",
     "text": [
      "[ 0.52490386  0.46545955  0.51063364]\n",
      "0.500332348019\n"
     ]
    }
   ],
   "source": [
    "cvscores = cross_val_score(dt, X, y, n_jobs = -1)\n",
    "print cvscores\n",
    "print cvscores.mean()"
   ]
  },
  {
   "cell_type": "code",
   "execution_count": 52,
   "metadata": {
    "collapsed": true
   },
   "outputs": [],
   "source": [
    "# set up param grid\n",
    "param_grid = {\n",
    "    'max_depth': [None,2,4,6,8,10],\n",
    "    'min_samples_split': range(5,100,10),\n",
    "    'max_features': [None, 10, 100]\n",
    "}"
   ]
  },
  {
   "cell_type": "code",
   "execution_count": 53,
   "metadata": {
    "collapsed": false
   },
   "outputs": [],
   "source": [
    "# instantiate gridsearchcv\n",
    "gsdt = GridSearchCV(dt, param_grid, n_jobs=-1, verbose=1)"
   ]
  },
  {
   "cell_type": "code",
   "execution_count": 54,
   "metadata": {
    "collapsed": false
   },
   "outputs": [
    {
     "name": "stdout",
     "output_type": "stream",
     "text": [
      "Fitting 3 folds for each of 180 candidates, totalling 540 fits\n"
     ]
    },
    {
     "name": "stderr",
     "output_type": "stream",
     "text": [
      "[Parallel(n_jobs=-1)]: Done  42 tasks      | elapsed:  1.9min\n",
      "[Parallel(n_jobs=-1)]: Done 192 tasks      | elapsed:  3.6min\n",
      "[Parallel(n_jobs=-1)]: Done 442 tasks      | elapsed:  6.0min\n",
      "[Parallel(n_jobs=-1)]: Done 540 out of 540 | elapsed:  7.4min finished\n"
     ]
    },
    {
     "data": {
      "text/plain": [
       "GridSearchCV(cv=None, error_score='raise',\n",
       "       estimator=DecisionTreeClassifier(class_weight=None, criterion='gini', max_depth=4,\n",
       "            max_features=None, max_leaf_nodes=None, min_samples_leaf=1,\n",
       "            min_samples_split=2, min_weight_fraction_leaf=0.0,\n",
       "            presort=False, random_state=12, splitter='best'),\n",
       "       fit_params={}, iid=True, n_jobs=-1,\n",
       "       param_grid={'min_samples_split': [5, 15, 25, 35, 45, 55, 65, 75, 85, 95], 'max_features': [None, 10, 100], 'max_depth': [None, 2, 4, 6, 8, 10]},\n",
       "       pre_dispatch='2*n_jobs', refit=True, scoring=None, verbose=1)"
      ]
     },
     "execution_count": 54,
     "metadata": {},
     "output_type": "execute_result"
    }
   ],
   "source": [
    "gsdt.fit(X,y)"
   ]
  },
  {
   "cell_type": "code",
   "execution_count": 55,
   "metadata": {
    "collapsed": false
   },
   "outputs": [
    {
     "data": {
      "text/plain": [
       "DecisionTreeClassifier(class_weight=None, criterion='gini', max_depth=2,\n",
       "            max_features=100, max_leaf_nodes=None, min_samples_leaf=1,\n",
       "            min_samples_split=5, min_weight_fraction_leaf=0.0,\n",
       "            presort=False, random_state=12, splitter='best')"
      ]
     },
     "execution_count": 55,
     "metadata": {},
     "output_type": "execute_result"
    }
   ],
   "source": [
    "gsdt.best_estimator_"
   ]
  },
  {
   "cell_type": "code",
   "execution_count": 56,
   "metadata": {
    "collapsed": false
   },
   "outputs": [
    {
     "name": "stdout",
     "output_type": "stream",
     "text": [
      "[ 0.52490386  0.49129062  0.52502033]\n",
      "0.51373826644\n"
     ]
    }
   ],
   "source": [
    "cvscores = cross_val_score(gsdt.best_estimator_, X, y)\n",
    "print cvscores\n",
    "print cvscores.mean()"
   ]
  },
  {
   "cell_type": "code",
   "execution_count": 57,
   "metadata": {
    "collapsed": false
   },
   "outputs": [
    {
     "name": "stdout",
     "output_type": "stream",
     "text": [
      "             precision    recall  f1-score   support\n",
      "\n",
      "        1.0       0.00      0.00      0.00      4358\n",
      "        2.0       0.00      0.00      0.00      1361\n",
      "        3.0       0.00      0.00      0.00      1648\n",
      "        4.0       0.00      0.00      0.00      1750\n",
      "        5.0       0.00      0.00      0.00      2445\n",
      "        6.0       0.00      0.00      0.00      3332\n",
      "        7.0       0.00      0.00      0.00      5182\n",
      "        8.0       0.00      0.00      0.00      9247\n",
      "        9.0       0.00      0.00      0.00     16249\n",
      "       10.0       0.52      1.00      0.69     50362\n",
      "\n",
      "avg / total       0.28      0.52      0.36     95934\n",
      "\n"
     ]
    },
    {
     "name": "stderr",
     "output_type": "stream",
     "text": [
      "/Users/Tamara/anaconda/lib/python2.7/site-packages/sklearn/metrics/classification.py:1074: UndefinedMetricWarning: Precision and F-score are ill-defined and being set to 0.0 in labels with no predicted samples.\n",
      "  'precision', 'predicted', average, warn_for)\n"
     ]
    }
   ],
   "source": [
    "gsdt_pred = gsdt.predict(X)\n",
    "print classification_report(y, gsdt_pred)"
   ]
  },
  {
   "cell_type": "code",
   "execution_count": 58,
   "metadata": {
    "collapsed": false
   },
   "outputs": [],
   "source": [
    "# Build and cross-validate your decision tree regressor\n",
    "dtr = DecisionTreeRegressor(random_state=rs)"
   ]
  },
  {
   "cell_type": "code",
   "execution_count": 59,
   "metadata": {
    "collapsed": false
   },
   "outputs": [
    {
     "data": {
      "text/plain": [
       "DecisionTreeRegressor(criterion='mse', max_depth=None, max_features=None,\n",
       "           max_leaf_nodes=None, min_samples_leaf=1, min_samples_split=2,\n",
       "           min_weight_fraction_leaf=0.0, presort=False, random_state=12,\n",
       "           splitter='best')"
      ]
     },
     "execution_count": 59,
     "metadata": {},
     "output_type": "execute_result"
    }
   ],
   "source": [
    "dtr.fit(X,y)"
   ]
  },
  {
   "cell_type": "code",
   "execution_count": 60,
   "metadata": {
    "collapsed": false
   },
   "outputs": [
    {
     "name": "stdout",
     "output_type": "stream",
     "text": [
      "[-0.5958467  -0.64055794 -0.70429368]\n",
      "-0.646899438626\n"
     ]
    }
   ],
   "source": [
    "cvscores = cross_val_score(dtr, X, y)\n",
    "print cvscores\n",
    "print cvscores.mean()"
   ]
  },
  {
   "cell_type": "code",
   "execution_count": 61,
   "metadata": {
    "collapsed": false
   },
   "outputs": [],
   "source": [
    "dtr_pred = dtr.predict(X)"
   ]
  },
  {
   "cell_type": "code",
   "execution_count": 62,
   "metadata": {
    "collapsed": false
   },
   "outputs": [
    {
     "data": {
      "text/plain": [
       "<matplotlib.text.Text at 0x19466d510>"
      ]
     },
     "execution_count": 62,
     "metadata": {},
     "output_type": "execute_result"
    },
    {
     "data": {
      "image/png": "[encoded data removed]",
      "text/plain": [
       "<matplotlib.figure.Figure at 0x1944445d0>"
      ]
     },
     "metadata": {},
     "output_type": "display_data"
    }
   ],
   "source": [
    "plt.scatter(y, dtr_pred, alpha=.1)\n",
    "plt.xlabel(\"True Rating\")\n",
    "plt.ylabel(\"Predicted Rating\")"
   ]
  },
  {
   "cell_type": "code",
   "execution_count": 63,
   "metadata": {
    "collapsed": false
   },
   "outputs": [],
   "source": [
    "# instantiate gs, use same param grid as previous to see if theres improvement\n",
    "gsdtr = GridSearchCV(dtr, param_grid, n_jobs=-1, verbose=1)"
   ]
  },
  {
   "cell_type": "code",
   "execution_count": 64,
   "metadata": {
    "collapsed": false
   },
   "outputs": [
    {
     "name": "stdout",
     "output_type": "stream",
     "text": [
      "Fitting 3 folds for each of 180 candidates, totalling 540 fits\n"
     ]
    },
    {
     "name": "stderr",
     "output_type": "stream",
     "text": [
      "[Parallel(n_jobs=-1)]: Done  42 tasks      | elapsed:  2.4min\n",
      "[Parallel(n_jobs=-1)]: Done 192 tasks      | elapsed:  4.4min\n",
      "[Parallel(n_jobs=-1)]: Done 442 tasks      | elapsed:  6.7min\n",
      "[Parallel(n_jobs=-1)]: Done 540 out of 540 | elapsed:  8.0min finished\n"
     ]
    },
    {
     "data": {
      "text/plain": [
       "GridSearchCV(cv=None, error_score='raise',\n",
       "       estimator=DecisionTreeRegressor(criterion='mse', max_depth=None, max_features=None,\n",
       "           max_leaf_nodes=None, min_samples_leaf=1, min_samples_split=2,\n",
       "           min_weight_fraction_leaf=0.0, presort=False, random_state=12,\n",
       "           splitter='best'),\n",
       "       fit_params={}, iid=True, n_jobs=-1,\n",
       "       param_grid={'min_samples_split': [5, 15, 25, 35, 45, 55, 65, 75, 85, 95], 'max_features': [None, 10, 100], 'max_depth': [None, 2, 4, 6, 8, 10]},\n",
       "       pre_dispatch='2*n_jobs', refit=True, scoring=None, verbose=1)"
      ]
     },
     "execution_count": 64,
     "metadata": {},
     "output_type": "execute_result"
    }
   ],
   "source": [
    "gsdtr.fit(X,y)"
   ]
  },
  {
   "cell_type": "code",
   "execution_count": 65,
   "metadata": {
    "collapsed": false
   },
   "outputs": [
    {
     "data": {
      "text/plain": [
       "DecisionTreeRegressor(criterion='mse', max_depth=8, max_features=None,\n",
       "           max_leaf_nodes=None, min_samples_leaf=1, min_samples_split=95,\n",
       "           min_weight_fraction_leaf=0.0, presort=False, random_state=12,\n",
       "           splitter='best')"
      ]
     },
     "execution_count": 65,
     "metadata": {},
     "output_type": "execute_result"
    }
   ],
   "source": [
    "gsdtr.best_estimator_"
   ]
  },
  {
   "cell_type": "code",
   "execution_count": 66,
   "metadata": {
    "collapsed": false
   },
   "outputs": [
    {
     "name": "stdout",
     "output_type": "stream",
     "text": [
      "[ 0.09035395  0.11877692  0.04761802]\n",
      "0.0855829668539\n"
     ]
    }
   ],
   "source": [
    "cvscores = cross_val_score(gsdtr.best_estimator_, X, y)\n",
    "print cvscores\n",
    "print cvscores.mean()"
   ]
  },
  {
   "cell_type": "code",
   "execution_count": 67,
   "metadata": {
    "collapsed": false
   },
   "outputs": [
    {
     "data": {
      "text/plain": [
       "<matplotlib.text.Text at 0x19448e650>"
      ]
     },
     "execution_count": 67,
     "metadata": {},
     "output_type": "execute_result"
    },
    {
     "data": {
      "image/png": "[encoded data removed]",
      "text/plain": [
       "<matplotlib.figure.Figure at 0x1944444d0>"
      ]
     },
     "metadata": {},
     "output_type": "display_data"
    }
   ],
   "source": [
    "gsdtr_pred = gsdtr.predict(X)\n",
    "plt.scatter(y, gsdtr_pred, alpha= .1)\n",
    "plt.xlabel(\"True Rating\")\n",
    "plt.ylabel(\"Predicted Rating\")"
   ]
  },
  {
   "cell_type": "code",
   "execution_count": 68,
   "metadata": {
    "collapsed": false
   },
   "outputs": [],
   "source": [
    "from sklearn.ensemble import RandomForestRegressor, AdaBoostRegressor, ExtraTreesRegressor\n",
    "rfr = RandomForestRegressor(random_state=rs, n_jobs=-1, verbose=1)\n",
    "abr = AdaBoostRegressor(random_state=rs)\n",
    "etr = ExtraTreesRegressor(random_state=rs,n_jobs=-1, verbose=1)"
   ]
  },
  {
   "cell_type": "code",
   "execution_count": 69,
   "metadata": {
    "collapsed": true
   },
   "outputs": [],
   "source": [
    "# Random Forest\n",
    "# param_grid = {\n",
    "#     'max_features': [None,5,20],\n",
    "#     'max_depth':[None,5,10],\n",
    "#     'min_samples_split': [2,10,40]\n",
    "# }\n",
    "\n",
    "param_grid = {'max_depth':[None,5,10]}"
   ]
  },
  {
   "cell_type": "code",
   "execution_count": 70,
   "metadata": {
    "collapsed": true
   },
   "outputs": [],
   "source": [
    "gsrfr = GridSearchCV(rfr, param_grid, verbose=1)"
   ]
  },
  {
   "cell_type": "code",
   "execution_count": 71,
   "metadata": {
    "collapsed": false
   },
   "outputs": [
    {
     "name": "stdout",
     "output_type": "stream",
     "text": [
      "Fitting 3 folds for each of 3 candidates, totalling 9 fits\n"
     ]
    },
    {
     "name": "stderr",
     "output_type": "stream",
     "text": [
      "[Parallel(n_jobs=-1)]: Done  10 out of  10 | elapsed:   35.8s finished\n",
      "[Parallel(n_jobs=4)]: Done  10 out of  10 | elapsed:    0.1s finished\n",
      "[Parallel(n_jobs=-1)]: Done  10 out of  10 | elapsed:   40.4s finished\n",
      "[Parallel(n_jobs=4)]: Done  10 out of  10 | elapsed:    0.1s finished\n",
      "[Parallel(n_jobs=-1)]: Done  10 out of  10 | elapsed:   36.6s finished\n",
      "[Parallel(n_jobs=4)]: Done  10 out of  10 | elapsed:    0.1s finished\n",
      "[Parallel(n_jobs=-1)]: Done  10 out of  10 | elapsed:    3.8s finished\n",
      "[Parallel(n_jobs=4)]: Done  10 out of  10 | elapsed:    0.0s finished\n",
      "[Parallel(n_jobs=-1)]: Done  10 out of  10 | elapsed:    4.0s finished\n",
      "[Parallel(n_jobs=4)]: Done  10 out of  10 | elapsed:    0.0s finished\n",
      "[Parallel(n_jobs=-1)]: Done  10 out of  10 | elapsed:    3.4s finished\n",
      "[Parallel(n_jobs=4)]: Done  10 out of  10 | elapsed:    0.0s finished\n",
      "[Parallel(n_jobs=-1)]: Done  10 out of  10 | elapsed:    7.6s finished\n",
      "[Parallel(n_jobs=4)]: Done  10 out of  10 | elapsed:    0.0s finished\n",
      "[Parallel(n_jobs=-1)]: Done  10 out of  10 | elapsed:    8.0s finished\n",
      "[Parallel(n_jobs=4)]: Done  10 out of  10 | elapsed:    0.0s finished\n",
      "[Parallel(n_jobs=-1)]: Done  10 out of  10 | elapsed:    7.0s finished\n",
      "[Parallel(n_jobs=4)]: Done  10 out of  10 | elapsed:    0.0s finished\n",
      "[Parallel(n_jobs=1)]: Done   9 out of   9 | elapsed:  2.5min finished\n",
      "[Parallel(n_jobs=-1)]: Done  10 out of  10 | elapsed:   11.8s finished\n"
     ]
    },
    {
     "data": {
      "text/plain": [
       "GridSearchCV(cv=None, error_score='raise',\n",
       "       estimator=RandomForestRegressor(bootstrap=True, criterion='mse', max_depth=None,\n",
       "           max_features='auto', max_leaf_nodes=None, min_samples_leaf=1,\n",
       "           min_samples_split=2, min_weight_fraction_leaf=0.0,\n",
       "           n_estimators=10, n_jobs=-1, oob_score=False, random_state=12,\n",
       "           verbose=1, warm_start=False),\n",
       "       fit_params={}, iid=True, n_jobs=1,\n",
       "       param_grid={'max_depth': [None, 5, 10]}, pre_dispatch='2*n_jobs',\n",
       "       refit=True, scoring=None, verbose=1)"
      ]
     },
     "execution_count": 71,
     "metadata": {},
     "output_type": "execute_result"
    }
   ],
   "source": [
    "#grid search\n",
    "gsrfr.fit(X,y)"
   ]
  },
  {
   "cell_type": "code",
   "execution_count": 72,
   "metadata": {
    "collapsed": false
   },
   "outputs": [
    {
     "name": "stderr",
     "output_type": "stream",
     "text": [
      "[Parallel(n_jobs=-1)]: Done  10 out of  10 | elapsed:  1.0min finished\n"
     ]
    },
    {
     "data": {
      "text/plain": [
       "RandomForestRegressor(bootstrap=True, criterion='mse', max_depth=None,\n",
       "           max_features='auto', max_leaf_nodes=None, min_samples_leaf=1,\n",
       "           min_samples_split=2, min_weight_fraction_leaf=0.0,\n",
       "           n_estimators=10, n_jobs=-1, oob_score=False, random_state=12,\n",
       "           verbose=1, warm_start=False)"
      ]
     },
     "execution_count": 72,
     "metadata": {},
     "output_type": "execute_result"
    }
   ],
   "source": [
    "rfr.fit(X,y)"
   ]
  },
  {
   "cell_type": "code",
   "execution_count": 73,
   "metadata": {
    "collapsed": false
   },
   "outputs": [
    {
     "data": {
      "text/plain": [
       "AdaBoostRegressor(base_estimator=None, learning_rate=1.0, loss='linear',\n",
       "         n_estimators=50, random_state=12)"
      ]
     },
     "execution_count": 73,
     "metadata": {},
     "output_type": "execute_result"
    }
   ],
   "source": [
    "abr.fit(X,y)"
   ]
  },
  {
   "cell_type": "code",
   "execution_count": 74,
   "metadata": {
    "collapsed": false
   },
   "outputs": [
    {
     "name": "stderr",
     "output_type": "stream",
     "text": [
      "[Parallel(n_jobs=-1)]: Done  10 out of  10 | elapsed:  1.7min finished\n",
      "[Parallel(n_jobs=4)]: Done  10 out of  10 | elapsed:    0.1s finished\n",
      "[Parallel(n_jobs=-1)]: Done  10 out of  10 | elapsed:  1.7min finished\n",
      "[Parallel(n_jobs=4)]: Done  10 out of  10 | elapsed:    0.1s finished\n",
      "[Parallel(n_jobs=-1)]: Done  10 out of  10 | elapsed:  1.7min finished\n",
      "[Parallel(n_jobs=4)]: Done  10 out of  10 | elapsed:    0.1s finished\n"
     ]
    }
   ],
   "source": [
    "rfr_cvscores = cross_val_score(rfr, X,y, n_jobs = -1)"
   ]
  },
  {
   "cell_type": "code",
   "execution_count": 75,
   "metadata": {
    "collapsed": true
   },
   "outputs": [],
   "source": [
    "abr_cvscores = cross_val_score(abr, X,y, n_jobs = -1)"
   ]
  },
  {
   "cell_type": "code",
   "execution_count": 76,
   "metadata": {
    "collapsed": false
   },
   "outputs": [
    {
     "name": "stderr",
     "output_type": "stream",
     "text": [
      "[Parallel(n_jobs=-1)]: Done  10 out of  10 | elapsed:  1.7min finished\n",
      "[Parallel(n_jobs=4)]: Done  10 out of  10 | elapsed:    0.1s finished\n",
      "[Parallel(n_jobs=-1)]: Done  10 out of  10 | elapsed:  1.7min finished\n",
      "[Parallel(n_jobs=4)]: Done  10 out of  10 | elapsed:    0.1s finished\n",
      "[Parallel(n_jobs=-1)]: Done  10 out of  10 | elapsed:  1.7min finished\n",
      "[Parallel(n_jobs=4)]: Done  10 out of  10 | elapsed:    0.1s finished\n"
     ]
    }
   ],
   "source": [
    "etr_cvscores = cross_val_score(etr, X,y, n_jobs = -1)"
   ]
  },
  {
   "cell_type": "code",
   "execution_count": 77,
   "metadata": {
    "collapsed": false
   },
   "outputs": [
    {
     "name": "stdout",
     "output_type": "stream",
     "text": [
      "Random Forest cvscore: 0.103835103721\n",
      "AdaBoost cvscore: -0.0355256404056\n",
      "ExtraTrees cvscore: 0.106432403443\n"
     ]
    }
   ],
   "source": [
    "print \"Random Forest cvscore:\", rfr_cvscores.mean()\n",
    "print \"AdaBoost cvscore:\", abr_cvscores.mean()\n",
    "print \"ExtraTrees cvscore:\", etr_cvscores.mean()"
   ]
  },
  {
   "cell_type": "code",
   "execution_count": 78,
   "metadata": {
    "collapsed": true
   },
   "outputs": [],
   "source": [
    "# use train_test_split and test performance\n",
    "from sklearn.cross_validation import train_test_split\n",
    "X_train, X_test, y_train, y_test = train_test_split(X, y, stratify=y, test_size=0.2, random_state=rs)"
   ]
  },
  {
   "cell_type": "code",
   "execution_count": 79,
   "metadata": {
    "collapsed": false
   },
   "outputs": [
    {
     "name": "stderr",
     "output_type": "stream",
     "text": [
      "[Parallel(n_jobs=-1)]: Done  10 out of  10 | elapsed:   50.4s finished\n",
      "[Parallel(n_jobs=-1)]: Done  10 out of  10 | elapsed:   50.2s finished\n"
     ]
    },
    {
     "data": {
      "text/plain": [
       "DecisionTreeRegressor(criterion='mse', max_depth=None, max_features=None,\n",
       "           max_leaf_nodes=None, min_samples_leaf=1, min_samples_split=2,\n",
       "           min_weight_fraction_leaf=0.0, presort=False, random_state=12,\n",
       "           splitter='best')"
      ]
     },
     "execution_count": 79,
     "metadata": {},
     "output_type": "execute_result"
    }
   ],
   "source": [
    "# fit models on training data\n",
    "rfr.fit(X_train, y_train)\n",
    "abr.fit(X_train, y_train)\n",
    "etr.fit(X_train, y_train)\n",
    "dtr.fit(X_train, y_train)"
   ]
  },
  {
   "cell_type": "code",
   "execution_count": 80,
   "metadata": {
    "collapsed": false
   },
   "outputs": [
    {
     "name": "stderr",
     "output_type": "stream",
     "text": [
      "[Parallel(n_jobs=4)]: Done  10 out of  10 | elapsed:    0.0s finished\n",
      "[Parallel(n_jobs=4)]: Done  10 out of  10 | elapsed:    0.1s finished\n"
     ]
    }
   ],
   "source": [
    "rfr_pred_test = rfr.predict(X_test)\n",
    "abr_pred_test = abr.predict(X_test)\n",
    "etr_pred_test = etr.predict(X_test)\n",
    "dtr_pred_test = dtr.predict(X_test)"
   ]
  },
  {
   "cell_type": "code",
   "execution_count": 81,
   "metadata": {
    "collapsed": false
   },
   "outputs": [
    {
     "name": "stdout",
     "output_type": "stream",
     "text": [
      "RFR RMSE:  5.07554110949\n",
      "ABR RMSE:  6.33869842379\n",
      "ETR RMSE:  4.94647766972\n",
      "Decision Tree RMSE:  9.24213084091\n"
     ]
    }
   ],
   "source": [
    "# look at RMSE for each model - also compare with our decision tree regressor that performed OK-ish earlier\n",
    "print \"RFR RMSE: \", np.mean([math.pow(pred-true, 2) for pred, true in zip(rfr_pred_test, y_test)])\n",
    "print \"ABR RMSE: \", np.mean([math.pow(pred-true, 2) for pred, true in zip(abr_pred_test, y_test)])\n",
    "print \"ETR RMSE: \", np.mean([math.pow(pred-true, 2) for pred, true in zip(etr_pred_test, y_test)])\n",
    "print \"Decision Tree RMSE: \", np.mean([math.pow(pred-true, 2) for pred, true in zip(dtr_pred_test, y_test)])"
   ]
  },
  {
   "cell_type": "code",
   "execution_count": 82,
   "metadata": {
    "collapsed": false
   },
   "outputs": [
    {
     "data": {
      "image/png": "[encoded data removed]",
      "text/plain": [
       "<matplotlib.figure.Figure at 0x1953fd990>"
      ]
     },
     "metadata": {},
     "output_type": "display_data"
    }
   ],
   "source": [
    "# ETR and RFR performed the best: look at them on a plot\n",
    "plt.scatter(y_test, rfr_pred_test, c = 'blue', alpha = .05)\n",
    "m_rtr, b_rtr = np.polyfit(y_test, rfr_pred_test, 1)\n",
    "plt.plot(y_test, y_test*m_rtr+b_rtr, c='blue')\n",
    "plt.scatter(y_test, etr_pred_test, c = 'green', alpha = .05)\n",
    "m_etr, b_etr = np.polyfit(y_test, etr_pred_test, 1)\n",
    "plt.plot(y_test, y_test*m_etr+b_etr, c='green')\n",
    "plt.xlabel(\"true rating\")\n",
    "plt.ylabel(\"predicted rating\")\n",
    "plt.legend(['Random Forest', 'ExtraTrees'], bbox_to_anchor=(1.05, 1), loc=2, borderaxespad=0.)\n",
    "plt.show()"
   ]
  },
  {
   "cell_type": "markdown",
   "metadata": {},
   "source": [
    "These models are generally overestimating ratings. It is possible that this is due in part to our data being so skewed to high ratings: we simply don't have sufficient training data to learn how to predict low ratings. Given that our data mostly has high ratings, our model is correctly predicting higher ratings generally because they're more likely to be correct. A better training set would have an equal distribution of true ratings."
   ]
  },
  {
   "cell_type": "code",
   "execution_count": 83,
   "metadata": {
    "collapsed": true
   },
   "outputs": [],
   "source": [
    "# taking the important features from the Random Forest regressor and putting them into a dataframe\n",
    "importances = pd.DataFrame(zip(X.columns, rfr.feature_importances_), columns = ['Variable', \n",
    "    'Importance']).sort_values('Importance', ascending = False)"
   ]
  },
  {
   "cell_type": "code",
   "execution_count": 84,
   "metadata": {
    "collapsed": false
   },
   "outputs": [
    {
     "data": {
      "text/plain": [
       "<matplotlib.axes._subplots.AxesSubplot at 0x194a374d0>"
      ]
     },
     "execution_count": 84,
     "metadata": {},
     "output_type": "execute_result"
    },
    {
     "data": {
      "image/png": "[encoded data removed]",
      "text/plain": [
       "<matplotlib.figure.Figure at 0x194a37d50>"
      ]
     },
     "metadata": {},
     "output_type": "display_data"
    }
   ],
   "source": [
    "# plot only top 40 features to avoid cluttering\n",
    "importances.head(40).plot(kind='bar', x = 'Variable', y = 'Importance', figsize = (20,10))"
   ]
  },
  {
   "cell_type": "code",
   "execution_count": null,
   "metadata": {
    "collapsed": true
   },
   "outputs": [],
   "source": []
  }
 ],
 "metadata": {
  "kernelspec": {
   "display_name": "Python 2",
   "language": "python",
   "name": "python2"
  },
  "language_info": {
   "codemirror_mode": {
    "name": "ipython",
    "version": 2
   },
   "file_extension": ".py",
   "mimetype": "text/x-python",
   "name": "python",
   "nbconvert_exporter": "python",
   "pygments_lexer": "ipython2",
   "version": "2.7.11"
  }
 },
 "nbformat": 4,
 "nbformat_minor": 0
}
