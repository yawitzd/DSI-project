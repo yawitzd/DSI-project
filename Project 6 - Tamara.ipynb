{
 "cells": [
  {
   "cell_type": "code",
   "execution_count": 1,
   "metadata": {
    "collapsed": true
   },
   "outputs": [],
   "source": [
    "import os\n",
    "import subprocess\n",
    "import collections\n",
    "import re\n",
    "import csv\n",
    "import json\n",
    "import math\n",
    "\n",
    "import pandas as pd\n",
    "import numpy as np\n",
    "import scipy\n",
    "\n",
    "from sklearn.ensemble import RandomForestClassifier\n",
    "from sklearn.ensemble import RandomForestRegressor\n",
    "\n",
    "import psycopg2\n",
    "import requests\n",
    "from imdbpie import Imdb\n",
    "import nltk\n",
    "\n",
    "import urllib\n",
    "from bs4 import BeautifulSoup\n",
    "\n",
    "import matplotlib.pyplot as plt\n",
    "import seaborn as sns\n",
    "import matplotlib\n",
    "matplotlib.style.use('ggplot')\n",
    "%matplotlib inline\n",
    "\n",
    "%matplotlib inline"
   ]
  },
  {
   "cell_type": "code",
   "execution_count": 2,
   "metadata": {
    "collapsed": true
   },
   "outputs": [],
   "source": [
    "# connecting to IMDB API\n",
    "imdb = Imdb()\n",
    "imdb = Imdb(anonymize=True)"
   ]
  },
  {
   "cell_type": "code",
   "execution_count": 3,
   "metadata": {
    "collapsed": false
   },
   "outputs": [
    {
     "data": {
      "text/plain": [
       "[{u'can_rate': True,\n",
       "  u'image': {u'height': 1388,\n",
       "   u'url': u'http://ia.media-imdb.com/images/M/MV5BODU4MjU4NjIwNl5BMl5BanBnXkFtZTgwMDU2MjEyMDE@._V1_.jpg',\n",
       "   u'width': 933},\n",
       "  u'num_votes': 1680226,\n",
       "  u'rating': 9.3,\n",
       "  u'tconst': u'tt0111161',\n",
       "  u'title': u'The Shawshank Redemption',\n",
       "  u'type': u'feature',\n",
       "  u'year': u'1994'},\n",
       " {u'can_rate': True,\n",
       "  u'image': {u'height': 500,\n",
       "   u'url': u'http://ia.media-imdb.com/images/M/MV5BMjEyMjcyNDI4MF5BMl5BanBnXkFtZTcwMDA5Mzg3OA@@._V1_.jpg',\n",
       "   u'width': 333},\n",
       "  u'num_votes': 1149562,\n",
       "  u'rating': 9.2,\n",
       "  u'tconst': u'tt0068646',\n",
       "  u'title': u'The Godfather',\n",
       "  u'type': u'feature',\n",
       "  u'year': u'1972'},\n",
       " {u'can_rate': True,\n",
       "  u'image': {u'height': 500,\n",
       "   u'url': u'http://ia.media-imdb.com/images/M/MV5BNDc2NTM3MzU1Nl5BMl5BanBnXkFtZTcwMTA5Mzg3OA@@._V1_.jpg',\n",
       "   u'width': 333},\n",
       "  u'num_votes': 786195,\n",
       "  u'rating': 9,\n",
       "  u'tconst': u'tt0071562',\n",
       "  u'title': u'The Godfather: Part II',\n",
       "  u'type': u'feature',\n",
       "  u'year': u'1974'},\n",
       " {u'can_rate': True,\n",
       "  u'image': {u'height': 2048,\n",
       "   u'url': u'http://ia.media-imdb.com/images/M/MV5BMTMxNTMwODM0NF5BMl5BanBnXkFtZTcwODAyMTk2Mw@@._V1_.jpg',\n",
       "   u'width': 1383},\n",
       "  u'num_votes': 1665249,\n",
       "  u'rating': 9,\n",
       "  u'tconst': u'tt0468569',\n",
       "  u'title': u'The Dark Knight',\n",
       "  u'type': u'feature',\n",
       "  u'year': u'2008'}]"
      ]
     },
     "execution_count": 3,
     "metadata": {},
     "output_type": "execute_result"
    }
   ],
   "source": [
    "# Querying top 250 movies\n",
    "movies = imdb.top_250()\n",
    "movies[0:4]"
   ]
  },
  {
   "cell_type": "code",
   "execution_count": 4,
   "metadata": {
    "collapsed": false
   },
   "outputs": [
    {
     "data": {
      "text/html": [
       "<div>\n",
       "<table border=\"1\" class=\"dataframe\">\n",
       "  <thead>\n",
       "    <tr style=\"text-align: right;\">\n",
       "      <th></th>\n",
       "      <th>can_rate</th>\n",
       "      <th>image</th>\n",
       "      <th>num_votes</th>\n",
       "      <th>rating</th>\n",
       "      <th>tconst</th>\n",
       "      <th>title</th>\n",
       "      <th>type</th>\n",
       "      <th>year</th>\n",
       "    </tr>\n",
       "  </thead>\n",
       "  <tbody>\n",
       "    <tr>\n",
       "      <th>0</th>\n",
       "      <td>True</td>\n",
       "      <td>{u'url': u'http://ia.media-imdb.com/images/M/M...</td>\n",
       "      <td>1680226</td>\n",
       "      <td>9.3</td>\n",
       "      <td>tt0111161</td>\n",
       "      <td>The Shawshank Redemption</td>\n",
       "      <td>feature</td>\n",
       "      <td>1994</td>\n",
       "    </tr>\n",
       "    <tr>\n",
       "      <th>1</th>\n",
       "      <td>True</td>\n",
       "      <td>{u'url': u'http://ia.media-imdb.com/images/M/M...</td>\n",
       "      <td>1149562</td>\n",
       "      <td>9.2</td>\n",
       "      <td>tt0068646</td>\n",
       "      <td>The Godfather</td>\n",
       "      <td>feature</td>\n",
       "      <td>1972</td>\n",
       "    </tr>\n",
       "    <tr>\n",
       "      <th>2</th>\n",
       "      <td>True</td>\n",
       "      <td>{u'url': u'http://ia.media-imdb.com/images/M/M...</td>\n",
       "      <td>786195</td>\n",
       "      <td>9.0</td>\n",
       "      <td>tt0071562</td>\n",
       "      <td>The Godfather: Part II</td>\n",
       "      <td>feature</td>\n",
       "      <td>1974</td>\n",
       "    </tr>\n",
       "    <tr>\n",
       "      <th>3</th>\n",
       "      <td>True</td>\n",
       "      <td>{u'url': u'http://ia.media-imdb.com/images/M/M...</td>\n",
       "      <td>1665249</td>\n",
       "      <td>9.0</td>\n",
       "      <td>tt0468569</td>\n",
       "      <td>The Dark Knight</td>\n",
       "      <td>feature</td>\n",
       "      <td>2008</td>\n",
       "    </tr>\n",
       "    <tr>\n",
       "      <th>4</th>\n",
       "      <td>True</td>\n",
       "      <td>{u'url': u'http://ia.media-imdb.com/images/M/M...</td>\n",
       "      <td>859938</td>\n",
       "      <td>8.9</td>\n",
       "      <td>tt0108052</td>\n",
       "      <td>Schindler's List</td>\n",
       "      <td>feature</td>\n",
       "      <td>1993</td>\n",
       "    </tr>\n",
       "  </tbody>\n",
       "</table>\n",
       "</div>"
      ],
      "text/plain": [
       "  can_rate                                              image  num_votes  \\\n",
       "0     True  {u'url': u'http://ia.media-imdb.com/images/M/M...    1680226   \n",
       "1     True  {u'url': u'http://ia.media-imdb.com/images/M/M...    1149562   \n",
       "2     True  {u'url': u'http://ia.media-imdb.com/images/M/M...     786195   \n",
       "3     True  {u'url': u'http://ia.media-imdb.com/images/M/M...    1665249   \n",
       "4     True  {u'url': u'http://ia.media-imdb.com/images/M/M...     859938   \n",
       "\n",
       "   rating     tconst                     title     type  year  \n",
       "0     9.3  tt0111161  The Shawshank Redemption  feature  1994  \n",
       "1     9.2  tt0068646             The Godfather  feature  1972  \n",
       "2     9.0  tt0071562    The Godfather: Part II  feature  1974  \n",
       "3     9.0  tt0468569           The Dark Knight  feature  2008  \n",
       "4     8.9  tt0108052          Schindler's List  feature  1993  "
      ]
     },
     "execution_count": 4,
     "metadata": {},
     "output_type": "execute_result"
    }
   ],
   "source": [
    "# Turn movie data into a dataframe\n",
    "top = imdb.top_250()\n",
    "df = pd.DataFrame(top)\n",
    "df.head()"
   ]
  },
  {
   "cell_type": "code",
   "execution_count": 5,
   "metadata": {
    "collapsed": false
   },
   "outputs": [
    {
     "data": {
      "text/html": [
       "<div>\n",
       "<table border=\"1\" class=\"dataframe\">\n",
       "  <thead>\n",
       "    <tr style=\"text-align: right;\">\n",
       "      <th></th>\n",
       "      <th>num_votes</th>\n",
       "      <th>rating</th>\n",
       "      <th>tconst</th>\n",
       "      <th>title</th>\n",
       "      <th>year</th>\n",
       "    </tr>\n",
       "  </thead>\n",
       "  <tbody>\n",
       "    <tr>\n",
       "      <th>0</th>\n",
       "      <td>1680226</td>\n",
       "      <td>9.3</td>\n",
       "      <td>tt0111161</td>\n",
       "      <td>The Shawshank Redemption</td>\n",
       "      <td>1994</td>\n",
       "    </tr>\n",
       "    <tr>\n",
       "      <th>1</th>\n",
       "      <td>1149562</td>\n",
       "      <td>9.2</td>\n",
       "      <td>tt0068646</td>\n",
       "      <td>The Godfather</td>\n",
       "      <td>1972</td>\n",
       "    </tr>\n",
       "    <tr>\n",
       "      <th>2</th>\n",
       "      <td>786195</td>\n",
       "      <td>9.0</td>\n",
       "      <td>tt0071562</td>\n",
       "      <td>The Godfather: Part II</td>\n",
       "      <td>1974</td>\n",
       "    </tr>\n",
       "    <tr>\n",
       "      <th>3</th>\n",
       "      <td>1665249</td>\n",
       "      <td>9.0</td>\n",
       "      <td>tt0468569</td>\n",
       "      <td>The Dark Knight</td>\n",
       "      <td>2008</td>\n",
       "    </tr>\n",
       "    <tr>\n",
       "      <th>4</th>\n",
       "      <td>859938</td>\n",
       "      <td>8.9</td>\n",
       "      <td>tt0108052</td>\n",
       "      <td>Schindler's List</td>\n",
       "      <td>1993</td>\n",
       "    </tr>\n",
       "  </tbody>\n",
       "</table>\n",
       "</div>"
      ],
      "text/plain": [
       "   num_votes  rating     tconst                     title  year\n",
       "0    1680226     9.3  tt0111161  The Shawshank Redemption  1994\n",
       "1    1149562     9.2  tt0068646             The Godfather  1972\n",
       "2     786195     9.0  tt0071562    The Godfather: Part II  1974\n",
       "3    1665249     9.0  tt0468569           The Dark Knight  2008\n",
       "4     859938     8.9  tt0108052          Schindler's List  1993"
      ]
     },
     "execution_count": 5,
     "metadata": {},
     "output_type": "execute_result"
    }
   ],
   "source": [
    "# Retrieving columns that I think will be useful \n",
    "top250 = pd.DataFrame(movies)[['num_votes','rating', 'tconst', 'title', 'year']]\n",
    "top250.head()"
   ]
  },
  {
   "cell_type": "code",
   "execution_count": 6,
   "metadata": {
    "collapsed": false
   },
   "outputs": [
    {
     "name": "stdout",
     "output_type": "stream",
     "text": [
      "<class 'pandas.core.frame.DataFrame'>\n",
      "RangeIndex: 250 entries, 0 to 249\n",
      "Data columns (total 5 columns):\n",
      "num_votes    250 non-null int64\n",
      "rating       250 non-null float64\n",
      "tconst       250 non-null object\n",
      "title        250 non-null object\n",
      "year         250 non-null object\n",
      "dtypes: float64(1), int64(1), object(3)\n",
      "memory usage: 9.8+ KB\n"
     ]
    }
   ],
   "source": [
    "top250.info()"
   ]
  },
  {
   "cell_type": "code",
   "execution_count": 7,
   "metadata": {
    "collapsed": false
   },
   "outputs": [
    {
     "data": {
      "text/html": [
       "<div>\n",
       "<table border=\"1\" class=\"dataframe\">\n",
       "  <thead>\n",
       "    <tr style=\"text-align: right;\">\n",
       "      <th></th>\n",
       "      <th>num_votes</th>\n",
       "      <th>rating</th>\n",
       "      <th>tconst</th>\n",
       "      <th>title</th>\n",
       "      <th>year</th>\n",
       "    </tr>\n",
       "  </thead>\n",
       "  <tbody>\n",
       "    <tr>\n",
       "      <th>0</th>\n",
       "      <td>1680226</td>\n",
       "      <td>9.3</td>\n",
       "      <td>tt0111161</td>\n",
       "      <td>The Shawshank Redemption</td>\n",
       "      <td>1994</td>\n",
       "    </tr>\n",
       "    <tr>\n",
       "      <th>1</th>\n",
       "      <td>1149562</td>\n",
       "      <td>9.2</td>\n",
       "      <td>tt0068646</td>\n",
       "      <td>The Godfather</td>\n",
       "      <td>1972</td>\n",
       "    </tr>\n",
       "    <tr>\n",
       "      <th>2</th>\n",
       "      <td>786195</td>\n",
       "      <td>9.0</td>\n",
       "      <td>tt0071562</td>\n",
       "      <td>The Godfather: Part II</td>\n",
       "      <td>1974</td>\n",
       "    </tr>\n",
       "    <tr>\n",
       "      <th>3</th>\n",
       "      <td>1665249</td>\n",
       "      <td>9.0</td>\n",
       "      <td>tt0468569</td>\n",
       "      <td>The Dark Knight</td>\n",
       "      <td>2008</td>\n",
       "    </tr>\n",
       "    <tr>\n",
       "      <th>6</th>\n",
       "      <td>1316943</td>\n",
       "      <td>8.9</td>\n",
       "      <td>tt0110912</td>\n",
       "      <td>Pulp Fiction</td>\n",
       "      <td>1994</td>\n",
       "    </tr>\n",
       "  </tbody>\n",
       "</table>\n",
       "</div>"
      ],
      "text/plain": [
       "   num_votes  rating     tconst                     title  year\n",
       "0    1680226     9.3  tt0111161  The Shawshank Redemption  1994\n",
       "1    1149562     9.2  tt0068646             The Godfather  1972\n",
       "2     786195     9.0  tt0071562    The Godfather: Part II  1974\n",
       "3    1665249     9.0  tt0468569           The Dark Knight  2008\n",
       "6    1316943     8.9  tt0110912              Pulp Fiction  1994"
      ]
     },
     "execution_count": 7,
     "metadata": {},
     "output_type": "execute_result"
    }
   ],
   "source": [
    "# select the top 100 movies\n",
    "top100 = top250.sort_values('rating', ascending=False)[0:100]\n",
    "top100.head()"
   ]
  },
  {
   "cell_type": "code",
   "execution_count": 8,
   "metadata": {
    "collapsed": true
   },
   "outputs": [],
   "source": [
    "# function to convert string to list of strings, removing whitespace\n",
    "# from start and end (to use for getting lists of genres)\n",
    "def strtolist(string):\n",
    "    result = []\n",
    "    current = \"\"\n",
    "    for c in string:\n",
    "        if c == \",\":\n",
    "            result.append(current.strip())\n",
    "            current=\"\"\n",
    "        else:\n",
    "            current+=(c)\n",
    "    result.append(current.strip())\n",
    "    return result"
   ]
  },
  {
   "cell_type": "code",
   "execution_count": 9,
   "metadata": {
    "collapsed": false
   },
   "outputs": [],
   "source": [
    "# create dictionary of movie id: {dictionary of genres and runtimes}\n",
    "# also create list of all genres across all movies\n",
    "allgenres=[]\n",
    "genreruntime = {}\n",
    "for mID in top100.tconst:\n",
    "    url = \"http://www.omdbapi.com/?i=\"+mID\n",
    "    data = urllib.urlopen(url)\n",
    "    parsed_data = json.loads(data.read())\n",
    "    genres = strtolist(parsed_data[\"Genre\"])\n",
    "    runtime = parsed_data[\"Runtime\"]\n",
    "    rt = int(runtime[0:(len(runtime)-4)])\n",
    "    genreruntime[mID] = {'genres': genres, 'runtime': rt}\n",
    "    for genre in genres:\n",
    "        if genre not in allgenres:\n",
    "            allgenres.append(genre)"
   ]
  },
  {
   "cell_type": "code",
   "execution_count": 10,
   "metadata": {
    "collapsed": false
   },
   "outputs": [],
   "source": [
    "# add columns for Runtime and Genres to dataframe\n",
    "top100[\"runtime_mins\"] = np.nan\n",
    "for genre in allgenres:\n",
    "    top100[genre] = 0"
   ]
  },
  {
   "cell_type": "code",
   "execution_count": 11,
   "metadata": {
    "collapsed": true
   },
   "outputs": [],
   "source": [
    "# populate our new columns with values for each movie\n",
    "for mID in top100.tconst:\n",
    "    i = top100[top100['tconst']==mID].index\n",
    "    top100.set_value(i, 'runtime_mins', genreruntime[mID]['runtime'])\n",
    "    for genre in genreruntime[mID]['genres']:\n",
    "        top100.set_value(i, genre, 1)"
   ]
  },
  {
   "cell_type": "code",
   "execution_count": 12,
   "metadata": {
    "collapsed": false
   },
   "outputs": [
    {
     "data": {
      "text/plain": [
       "Drama        0.72\n",
       "Adventure    0.27\n",
       "Crime        0.25\n",
       "Action       0.18\n",
       "Comedy       0.13\n",
       "Mystery      0.13\n",
       "Thriller     0.11\n",
       "Biography    0.09\n",
       "Sci-Fi       0.08\n",
       "Animation    0.08\n",
       "War          0.07\n",
       "Romance      0.07\n",
       "Fantasy      0.07\n",
       "Family       0.05\n",
       "History      0.04\n",
       "Western      0.04\n",
       "Horror       0.04\n",
       "Film-Noir    0.03\n",
       "Music        0.01\n",
       "Sport        0.01\n",
       "dtype: float64"
      ]
     },
     "execution_count": 12,
     "metadata": {},
     "output_type": "execute_result"
    }
   ],
   "source": [
    "# look at % of top 100 that genre constitutes (sum is >100% due to \n",
    "# some movies having multiple genres). Make sure all nonzero\n",
    "top100[allgenres].sum().sort_values(ascending=False)/top100.tconst.count()"
   ]
  },
  {
   "cell_type": "code",
   "execution_count": 13,
   "metadata": {
    "collapsed": false
   },
   "outputs": [
    {
     "data": {
      "text/plain": [
       "Index([   u'num_votes',       u'rating',       u'tconst',        u'title',\n",
       "               u'year', u'runtime_mins',        u'Crime',        u'Drama',\n",
       "             u'Action',    u'Adventure',      u'Western',    u'Biography',\n",
       "            u'History',      u'Fantasy',      u'Romance',       u'Sci_Fi',\n",
       "             u'Comedy',          u'War',      u'Mystery',    u'Animation',\n",
       "             u'Family',     u'Thriller',       u'Horror',    u'Film_Noir',\n",
       "              u'Music',        u'Sport'],\n",
       "      dtype='object')"
      ]
     },
     "execution_count": 13,
     "metadata": {},
     "output_type": "execute_result"
    }
   ],
   "source": [
    "# change scifi and film noir column headers to avoid \"-\" char\n",
    "top100.rename(columns = {'Sci-Fi': 'Sci_Fi', 'Film-Noir': 'Film_Noir'}, inplace=True)\n",
    "top100.columns"
   ]
  },
  {
   "cell_type": "code",
   "execution_count": null,
   "metadata": {
    "collapsed": true
   },
   "outputs": [],
   "source": [
    "# write results to a csv\n",
    "top100.to_csv('top100.csv', encoding='utf-8', index=False)"
   ]
  },
  {
   "cell_type": "code",
   "execution_count": null,
   "metadata": {
    "collapsed": false
   },
   "outputs": [],
   "source": [
    "# use imdbpie to extract the reviews and ratings for each movie\n",
    "top100reviews= {}\n",
    "for mID in top100.tconst:\n",
    "    reviews = imdb.get_title_reviews(mID, max_results=10000)\n",
    "    revlist = []\n",
    "    for review in reviews:\n",
    "        revdict = {'revText': review.text, 'revRating': review.rating}\n",
    "        revlist.append(revdict)\n",
    "    top100reviews[mID] = revlist"
   ]
  },
  {
   "cell_type": "code",
   "execution_count": null,
   "metadata": {
    "collapsed": false
   },
   "outputs": [],
   "source": [
    "print len(top100reviews)"
   ]
  },
  {
   "cell_type": "code",
   "execution_count": null,
   "metadata": {
    "collapsed": true
   },
   "outputs": [],
   "source": [
    "# use regex to strip alphanumeric characters from each review and separately\n",
    "# make list of all reviews\n",
    "allReviews = []\n",
    "for movie in top100reviews:\n",
    "    for i in range(len(top100reviews[movie])):\n",
    "        strippedText = re.sub(r'([^\\s\\w]|_)+', '', top100reviews[movie][i]['revText']).replace('\\n', ' ')\n",
    "        allReviews.append(strippedText)\n",
    "        top100reviews[movie][i]['revText'] = strippedText"
   ]
  },
  {
   "cell_type": "code",
   "execution_count": null,
   "metadata": {
    "collapsed": true
   },
   "outputs": [],
   "source": [
    "from sklearn.feature_extraction.text import TfidfVectorizer\n",
    "tvect = TfidfVectorizer(ngram_range = (1,2), stop_words='english', max_features=200)"
   ]
  },
  {
   "cell_type": "code",
   "execution_count": null,
   "metadata": {
    "collapsed": true
   },
   "outputs": [],
   "source": [
    "# train tvect on all reviews\n",
    "tdm = tvect.fit_transform(allReviews)"
   ]
  },
  {
   "cell_type": "code",
   "execution_count": null,
   "metadata": {
    "collapsed": true
   },
   "outputs": [],
   "source": [
    "# merge the reviews and ratings by creating a 3-column dataframe \n",
    "# with movie, review text and rating\n",
    "\n",
    "top100revDF = pd.DataFrame(columns = ['mID', 'revText', 'revRating'])\n",
    "\n",
    "for movie in top100reviews:\n",
    "    for i in range(len(top100reviews[movie])):\n",
    "        review = top100reviews[movie][i]\n",
    "        top100revDF = top100revDF.append(pd.DataFrame([[movie, review['revText'], \n",
    "            review['revRating']]], columns = ['mID', 'revText', 'revRating']), \n",
    "            ignore_index=True)"
   ]
  },
  {
   "cell_type": "code",
   "execution_count": null,
   "metadata": {
    "collapsed": true
   },
   "outputs": [],
   "source": [
    "# change mID column to tconst, to line up with the top100 table\n",
    "\n",
    "top100revDF['tconst'] = top100revDF['mID']\n",
    "del top100revDF['mID']"
   ]
  },
  {
   "cell_type": "code",
   "execution_count": null,
   "metadata": {
    "collapsed": true
   },
   "outputs": [],
   "source": [
    "# remove \\r from reviews\n",
    "top100revDF['revText'] = top100revDF['revText'].replace('\\r', ' ').replace('\\\\n', ' ').replace('\\\\r',' ')"
   ]
  },
  {
   "cell_type": "code",
   "execution_count": null,
   "metadata": {
    "collapsed": true
   },
   "outputs": [],
   "source": [
    "# remove null rows\n",
    "nonnull = top100revDF.dropna()"
   ]
  },
  {
   "cell_type": "code",
   "execution_count": null,
   "metadata": {
    "collapsed": true
   },
   "outputs": [],
   "source": [
    "# create a csv file \n",
    "nonnull.to_csv('reviews.csv', encoding='utf-8', index=False)"
   ]
  },
  {
   "cell_type": "code",
   "execution_count": null,
   "metadata": {
    "collapsed": false
   },
   "outputs": [],
   "source": [
    "%reload_ext sql"
   ]
  },
  {
   "cell_type": "code",
   "execution_count": null,
   "metadata": {
    "collapsed": false
   },
   "outputs": [],
   "source": [
    "%%sql \n",
    "postgresql://localhost:5432/imdb"
   ]
  },
  {
   "cell_type": "code",
   "execution_count": null,
   "metadata": {
    "collapsed": false
   },
   "outputs": [],
   "source": [
    "%%sql\n",
    "DROP TABLE IF EXISTS top100;\n",
    "CREATE TABLE top100\n",
    "(num_votes integer,\n",
    "rating decimal,\n",
    "tconst text,\n",
    "title text,\n",
    "year integer,\n",
    "runtime_mins numeric,\n",
    "Crime integer,\n",
    "Drama integer,\n",
    "Action integer,\n",
    "Thriller integer,\n",
    "Adventure integer,\n",
    "Fantasy integer,\n",
    "Western integer,\n",
    "Biography integer,\n",
    "History integer,\n",
    "Romance integer,\n",
    "Mystery integer,\n",
    "Sci_Fi integer,\n",
    "War integer,\n",
    "Comedy integer,\n",
    "Animation integer,\n",
    "Family integer,\n",
    "Horror integer,\n",
    "Film_Noir integer,\n",
    "Music integer,\n",
    "Sport integer\n",
    ");\n",
    "\n",
    "COPY top100 FROM\n",
    "'/Users/Tamara/top100.csv'\n",
    "DELIMITER ',' CSV HEADER;"
   ]
  },
  {
   "cell_type": "code",
   "execution_count": null,
   "metadata": {
    "collapsed": false
   },
   "outputs": [],
   "source": [
    "%%sql\n",
    "DROP TABLE IF EXISTS reviews;\n",
    "CREATE TABLE reviews \n",
    "(revText text,\n",
    " revRating decimal,\n",
    " tconst text\n",
    ");\n",
    "\n",
    "COPY reviews FROM \n",
    "'/Users/Tamara/reviews.csv'\n",
    "DELIMITER ',' CSV HEADER;"
   ]
  },
  {
   "cell_type": "code",
   "execution_count": null,
   "metadata": {
    "collapsed": false
   },
   "outputs": [],
   "source": [
    "# connect to database and query the set\n",
    "joined = %sql SELECT * FROM reviews JOIN top100 ON reviews.\"tconst\"=top100.\"tconst\";"
   ]
  },
  {
   "cell_type": "code",
   "execution_count": null,
   "metadata": {
    "collapsed": false
   },
   "outputs": [],
   "source": [
    "# joint the two tables\n",
    "result = pd.DataFrame(joined, columns = (nonnull.columns).append(top100.columns))"
   ]
  },
  {
   "cell_type": "code",
   "execution_count": null,
   "metadata": {
    "collapsed": true
   },
   "outputs": [],
   "source": [
    "## code in case of problems with the SQL data\n",
    "df = top100.merge(nonnull)"
   ]
  },
  {
   "cell_type": "code",
   "execution_count": null,
   "metadata": {
    "collapsed": false
   },
   "outputs": [],
   "source": [
    "df.columns"
   ]
  },
  {
   "cell_type": "code",
   "execution_count": null,
   "metadata": {
    "collapsed": true
   },
   "outputs": [],
   "source": [
    "df.rename(columns = {'rating': 'avgRating'}, inplace=True)\n",
    "# drop title and tconst since they won't be used for modeling\n",
    "df.drop(['tconst', 'title'], axis=1, inplace=True)"
   ]
  },
  {
   "cell_type": "code",
   "execution_count": null,
   "metadata": {
    "collapsed": false
   },
   "outputs": [],
   "source": [
    "df.info()"
   ]
  },
  {
   "cell_type": "code",
   "execution_count": null,
   "metadata": {
    "collapsed": false
   },
   "outputs": [],
   "source": [
    "# do more votes correspond with higher avg rating?\n",
    "plt.scatter(df['num_votes'], df['avgRating'])\n",
    "plt.xlabel(\"num_votes\")\n",
    "plt.ylabel(\"avgRating\")"
   ]
  },
  {
   "cell_type": "code",
   "execution_count": null,
   "metadata": {
    "collapsed": false
   },
   "outputs": [],
   "source": [
    "# What does distribution of ratings look like?\n",
    "plt.hist(df['revRating'])\n",
    "plt.xlabel(\"score\")\n",
    "plt.ylabel(\"num reviews\")"
   ]
  },
  {
   "cell_type": "code",
   "execution_count": null,
   "metadata": {
    "collapsed": true
   },
   "outputs": [],
   "source": [
    "# 1 seems to be most heavily used of low scores - when people dislike\n",
    "# a movie they just score it at 1 rather than bother distinguishing between 1-4 (ish).\n",
    "# Another interpretation is that people whose true opinion of a movie is middling\n",
    "# (between, say, 2-7 rating equivalent) aren't as motivated to share their opinion as\n",
    "# those who either loved or hated the movie."
   ]
  },
  {
   "cell_type": "code",
   "execution_count": null,
   "metadata": {
    "collapsed": false
   },
   "outputs": [],
   "source": [
    "# look at avg rating vs runtime\n",
    "plt.scatter(df['runtime_mins'], df['avgRating'])\n",
    "plt.xlabel('runtime mins')\n",
    "plt.ylabel('avg rating')"
   ]
  },
  {
   "cell_type": "code",
   "execution_count": null,
   "metadata": {
    "collapsed": false
   },
   "outputs": [],
   "source": [
    "# num votes versus year (are fewer people voting on older movies?)\n",
    "\n",
    "plt.scatter(df['year'], df['num_votes'])"
   ]
  },
  {
   "cell_type": "code",
   "execution_count": null,
   "metadata": {
    "collapsed": false
   },
   "outputs": [],
   "source": [
    "df.columns"
   ]
  },
  {
   "cell_type": "code",
   "execution_count": null,
   "metadata": {
    "collapsed": true
   },
   "outputs": [],
   "source": [
    "# define X, y\n",
    "y = df['revRating']\n",
    "X = df.drop(['num_votes', 'avgRating', 'revText', 'revRating'], axis=1)"
   ]
  },
  {
   "cell_type": "code",
   "execution_count": null,
   "metadata": {
    "collapsed": false
   },
   "outputs": [],
   "source": [
    "y.head()"
   ]
  },
  {
   "cell_type": "code",
   "execution_count": null,
   "metadata": {
    "collapsed": true
   },
   "outputs": [],
   "source": [
    "# Need to add tfidf columns to the dataset\n",
    "dft = pd.DataFrame(tvect.transform(df['revText']).toarray(), columns = tvect.get_feature_names())"
   ]
  },
  {
   "cell_type": "code",
   "execution_count": null,
   "metadata": {
    "collapsed": true
   },
   "outputs": [],
   "source": [
    "X = pd.concat([X, dft], axis = 1)"
   ]
  },
  {
   "cell_type": "code",
   "execution_count": null,
   "metadata": {
    "collapsed": false
   },
   "outputs": [],
   "source": [
    "X.columns"
   ]
  },
  {
   "cell_type": "code",
   "execution_count": null,
   "metadata": {
    "collapsed": true
   },
   "outputs": [],
   "source": [
    "# there are 2 'year' columns, one for release year and one for the word 'year' in a review. Need to rename\n",
    "newColHeaders = X.columns[1:].tolist()\n",
    "newColHeaders.insert(0, \"ReleaseYear\")"
   ]
  },
  {
   "cell_type": "code",
   "execution_count": null,
   "metadata": {
    "collapsed": true
   },
   "outputs": [],
   "source": [
    "X.columns = newColHeaders"
   ]
  },
  {
   "cell_type": "code",
   "execution_count": null,
   "metadata": {
    "collapsed": true
   },
   "outputs": [],
   "source": [
    "# build and cross validate the tree\n",
    "from sklearn.tree import DecisionTreeClassifier, DecisionTreeRegressor\n",
    "from sklearn.cross_validation import cross_val_score\n",
    "from sklearn.grid_search import GridSearchCV\n",
    "from sklearn.metrics import classification_report, confusion_matrix"
   ]
  },
  {
   "cell_type": "code",
   "execution_count": null,
   "metadata": {
    "collapsed": false
   },
   "outputs": [],
   "source": [
    "# instantiate classifier, use max_depth of 4 to control complexity\n",
    "dt = DecisionTreeClassifier(max_depth = 4, random_state = rs)"
   ]
  },
  {
   "cell_type": "code",
   "execution_count": null,
   "metadata": {
    "collapsed": false
   },
   "outputs": [],
   "source": [
    "dt.fit(X,y)"
   ]
  },
  {
   "cell_type": "code",
   "execution_count": null,
   "metadata": {
    "collapsed": false
   },
   "outputs": [],
   "source": [
    "cvscores = cross_val_score(dt, X, y, n_jobs = -1)\n",
    "print cvscores\n",
    "print cvscores.mean()"
   ]
  },
  {
   "cell_type": "code",
   "execution_count": null,
   "metadata": {
    "collapsed": true
   },
   "outputs": [],
   "source": [
    "# set up param grid\n",
    "param_grid = {\n",
    "    'max_depth': [None,2,4,6,8,10],\n",
    "    'min_samples_split': range(5,100,10),\n",
    "    'max_features': [None, 10, 100]\n",
    "}"
   ]
  },
  {
   "cell_type": "code",
   "execution_count": null,
   "metadata": {
    "collapsed": false
   },
   "outputs": [],
   "source": [
    "# instantiate gridsearchcv\n",
    "gsdt = GridSearchCV(dt, param_grid, n_jobs=-1, verbose=1)"
   ]
  },
  {
   "cell_type": "code",
   "execution_count": null,
   "metadata": {
    "collapsed": false
   },
   "outputs": [],
   "source": [
    "gsdt.fit(X,y)"
   ]
  },
  {
   "cell_type": "code",
   "execution_count": null,
   "metadata": {
    "collapsed": false
   },
   "outputs": [],
   "source": [
    "gsdt.best_estimator_"
   ]
  },
  {
   "cell_type": "code",
   "execution_count": null,
   "metadata": {
    "collapsed": false
   },
   "outputs": [],
   "source": [
    "cvscores = cross_val_score(gsdt.best_estimator_, X, y)\n",
    "print cvscores\n",
    "print cvscores.mean()"
   ]
  },
  {
   "cell_type": "code",
   "execution_count": null,
   "metadata": {
    "collapsed": false
   },
   "outputs": [],
   "source": [
    "gsdt_pred = gsdt.predict(X)\n",
    "print classification_report(y, gsdt_pred)"
   ]
  },
  {
   "cell_type": "code",
   "execution_count": null,
   "metadata": {
    "collapsed": false
   },
   "outputs": [],
   "source": [
    "# Build and cross-validate your decision tree regressor\n",
    "dtr = DecisionTreeRegressor(random_state=rs)"
   ]
  },
  {
   "cell_type": "code",
   "execution_count": null,
   "metadata": {
    "collapsed": false
   },
   "outputs": [],
   "source": [
    "dtr.fit(X,y)"
   ]
  },
  {
   "cell_type": "code",
   "execution_count": null,
   "metadata": {
    "collapsed": false
   },
   "outputs": [],
   "source": [
    "cvscores = cross_val_score(dtr, X, y)\n",
    "print cvscores\n",
    "print cvscores.mean()"
   ]
  },
  {
   "cell_type": "code",
   "execution_count": null,
   "metadata": {
    "collapsed": false
   },
   "outputs": [],
   "source": [
    "dtr_pred = dtr.predict(X)"
   ]
  },
  {
   "cell_type": "code",
   "execution_count": null,
   "metadata": {
    "collapsed": false
   },
   "outputs": [],
   "source": [
    "plt.scatter(y, dtr_pred, alpha=.1)\n",
    "plt.xlabel(\"True Rating\")\n",
    "plt.ylabel(\"Predicted Rating\")"
   ]
  },
  {
   "cell_type": "code",
   "execution_count": null,
   "metadata": {
    "collapsed": false
   },
   "outputs": [],
   "source": [
    "# instantiate gs, use same param grid as previous to see if theres improvement\n",
    "gsdtr = GridSearchCV(dtr, param_grid, n_jobs=-1, verbose=1)"
   ]
  },
  {
   "cell_type": "code",
   "execution_count": null,
   "metadata": {
    "collapsed": false
   },
   "outputs": [],
   "source": [
    "gsdtr.fit(X,y)"
   ]
  },
  {
   "cell_type": "code",
   "execution_count": null,
   "metadata": {
    "collapsed": false
   },
   "outputs": [],
   "source": [
    "gsdtr.best_estimator_"
   ]
  },
  {
   "cell_type": "code",
   "execution_count": null,
   "metadata": {
    "collapsed": false
   },
   "outputs": [],
   "source": [
    "cvscores = cross_val_score(gsdtr.best_estimator_, X, y)\n",
    "print cvscores\n",
    "print cvscores.mean()"
   ]
  },
  {
   "cell_type": "code",
   "execution_count": null,
   "metadata": {
    "collapsed": false
   },
   "outputs": [],
   "source": [
    "gsdtr_pred = gsdtr.predict(X)\n",
    "plt.scatter(y, gsdtr_pred, alpha= .1)\n",
    "plt.xlabel(\"True Rating\")\n",
    "plt.ylabel(\"Predicted Rating\")"
   ]
  },
  {
   "cell_type": "code",
   "execution_count": null,
   "metadata": {
    "collapsed": false
   },
   "outputs": [],
   "source": [
    "from sklearn.ensemble import RandomForestRegressor, AdaBoostRegressor, ExtraTreesRegressor\n",
    "rfr = RandomForestRegressor(random_state=rs, n_jobs=-1, verbose=1)\n",
    "abr = AdaBoostRegressor(random_state=rs)\n",
    "etr = ExtraTreesRegressor(random_state=rs,n_jobs=-1, verbose=1)"
   ]
  },
  {
   "cell_type": "code",
   "execution_count": null,
   "metadata": {
    "collapsed": true
   },
   "outputs": [],
   "source": []
  },
  {
   "cell_type": "code",
   "execution_count": null,
   "metadata": {
    "collapsed": true
   },
   "outputs": [],
   "source": []
  }
 ],
 "metadata": {
  "kernelspec": {
   "display_name": "Python 2",
   "language": "python",
   "name": "python2"
  },
  "language_info": {
   "codemirror_mode": {
    "name": "ipython",
    "version": 2
   },
   "file_extension": ".py",
   "mimetype": "text/x-python",
   "name": "python",
   "nbconvert_exporter": "python",
   "pygments_lexer": "ipython2",
   "version": "2.7.11"
  }
 },
 "nbformat": 4,
 "nbformat_minor": 0
}
